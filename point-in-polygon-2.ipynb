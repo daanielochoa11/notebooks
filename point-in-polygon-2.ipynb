{
 "cells": [
  {
   "cell_type": "markdown",
   "metadata": {},
   "source": [
    "<a href=\"https://colab.research.google.com/github/gisalgs/notebooks/blob/main/point-in-polygon-2.ipynb\">\n",
    "  <img src=\"https://colab.research.google.com/assets/colab-badge.svg\" alt=\"Open In Colab\"/>\n",
    "</a>\n",
    "\n",
    "\n",
    "# Point-in-Polygon: Even-odd Algorithm\n",
    "\n",
    "Point-in-polygon is a crucial operation when we handle spatial data. For example, if we click on a polygon in QGIS, we want to quickly pull out the data about this polygon (instead of waiting for a while before the data shows up). There are many ways to determine whether a point is in a polygon and we introduce the even-odd algorithm here. To determine if a point (such as one of the dots in following figure) is in a polygon, we first draw a half line that starts from the point and points to the right of the point. If the half line intersects with the polygon in an odd number of times, then we say the point is in the polygon. Otherwise the point is outside the polygon. \n",
    "\n",
    "![](figures/pip-1.png)\n",
    "\n",
    "This seemingly simple algorithm, however, has many special cases that are tedious and must be addressed. For example, the half line *a* in the figure has a part of the polygon boundary on it and we will have to decide how many times the half lines intersects the polygon. Also, when a half line (e.g., *b* and *c*) goes through a vertex of the polygon, how many times should we count the intersection?\n",
    "\n",
    "The next consideration is the calculation of intersection points. Computing the physical intersection point, if any, is an expensive process -- it takes some time to do and it takes a lot of times if we have a lot of intersection points to compute. To understand this, we should remember the so called polygon in GIS has many line segments and we will have to test whether each of the line segments intersects with the half line. That sounds a lot. But the good news is: we don't have to get the physical intersection point for most of the cases. For many cases, we just need to make a quick decision whether the half line intersects with the boundary. We can illustrate this using the following figure. \n",
    "\n",
    "![](figures/pip-2.png)\n",
    "\n",
    "In the above figure, it is clear that the half line (the one starts at point *A*) is not going to intersect with line segments *a*, *d*, and *e*. Line segment *c* crosses the half line, but we don't need to compute the intersection point --- we know for fact they will intersect because the two end points of *c* are on the different sides of the half line, and are to the right of point *A*. Taking out these cases, we only have one case left: line segments like *b* or *b'* where the two end points are on both sizes of the half line but one of the end point is to the left of point *A*. \n",
    "\n",
    "Then we need to consider a few **special cases**, when the point (dark dot below) is on one of the two ends of the line segment, or on a horizontal or vertical line.\n",
    "\n",
    "![](figures/point-in-polygon-special-cases.png)\n",
    "\n",
    "In this tutorial, we are not going to discuss the details of calculating intersection of two line segments. Please refer to sections 2.5 and 2.6 in the *GIS Algorithms* book for those details. \n",
    "\n",
    "To run the code in this tutorial in a Jupyter notebook on Google Colab, we need to make sure the following line is executed to load the modules."
   ]
  },
  {
   "cell_type": "code",
   "execution_count": 1,
   "metadata": {},
   "outputs": [
    {
     "name": "stdout",
     "output_type": "stream",
     "text": [
      "fatal: destination path 'geom' already exists and is not an empty directory.\r\n"
     ]
    }
   ],
   "source": [
    "!git clone https://github.com/gisalgs/geom.git "
   ]
  },
  {
   "cell_type": "markdown",
   "metadata": {},
   "source": [
    "To run the code here on a local Python interactive mode, we need to download the necessary files into the proper folder and then do something like this:\n",
    "\n",
    "```python\n",
    "import sys\n",
    "sys.path.append('/home/xiao/lib/gisalgs')\n",
    "```"
   ]
  },
  {
   "cell_type": "markdown",
   "metadata": {},
   "source": [
    "More detail about the even-odd algorithm for checking if a point is in a polygon can be found in Section 2.7 of the textbook. The source code is saved as a module in [point_in_polygon.py](https://github.com/gisalgs/geom/blob/master/point_in_polygon.py). This code was adopted from the C program in Graphics Gems IV by Haines (1994). The function takes two inputs: a point and a polygon. The polygon is organized as a list of Point objects. The code will raise an error if the polygon is not closed. \n",
    "\n"
   ]
  },
  {
   "cell_type": "code",
   "execution_count": 2,
   "metadata": {
    "scrolled": true
   },
   "outputs": [
    {
     "name": "stdout",
     "output_type": "stream",
     "text": [
      "Point (10, 30) is IN\n",
      "Point (10, 20) is IN\n",
      "Point (20, 40) is IN\n",
      "Point (5, 40) is OUT\n",
      "Point (35, 20) is IN\n",
      "Point (55, 50) is IN\n",
      "Point (5, 39.5) is IN\n",
      "Point (10, 30) is OUT\n"
     ]
    }
   ],
   "source": [
    "from geom.point import *\n",
    "from geom.point_in_polygon import *\n",
    "\n",
    "points1 = [ [0,10], [5,0], [10,10], [15,0], [20,10],\n",
    "           [25,0], [30,20], [40,20], [45,0], [60, 50], [50,50],\n",
    "           [40,40], [30,50], [25,20], [20,50], [15,10],\n",
    "           [10,50], [8, 8], [4,50], [0,10] ]\n",
    "polygon1 = [ Point(p[0], p[1]) for p in points1 ]\n",
    "\n",
    "p1 = Point(10, 30)\n",
    "p2 = Point(10, 20)\n",
    "p3 = Point(20, 40)\n",
    "p4 = Point(5, 40)\n",
    "p5 = Point(35, 20)\n",
    "p6 = Point(55, 50)\n",
    "p7 = Point(5, 39.5)\n",
    "\n",
    "print(\"Point %s is %s\"%(p1, 'IN' if pip_cross(p1, polygon1)[0] is True else 'OUT'))\n",
    "print(\"Point %s is %s\"%(p2, 'IN' if pip_cross(p2, polygon1)[0] is True else 'OUT'))\n",
    "print(\"Point %s is %s\"%(p3, 'IN' if pip_cross(p3, polygon1)[0] is True else 'OUT'))\n",
    "print(\"Point %s is %s\"%(p4, 'IN' if pip_cross(p4, polygon1)[0] is True else 'OUT'))\n",
    "print(\"Point %s is %s\"%(p5, 'IN' if pip_cross(p5, polygon1)[0] is True else 'OUT'))\n",
    "print(\"Point %s is %s\"%(p6, 'IN' if pip_cross(p6, polygon1)[0] is True else 'OUT'))\n",
    "print(\"Point %s is %s\"%(p7, 'IN' if pip_cross(p7, polygon1)[0] is True else 'OUT'))\n",
    "\n",
    "points2 = [ [0,10], [5,0], [10,10], [15,0], [20,10] ]\n",
    "polygon2 = [[Point(p[0], p[1]) for p in points2 ]]\n",
    "\n",
    "try:\n",
    "    print(\"Point %s is %s\"%(p1, 'IN' if pip_cross(p1, polygon2)[0] is True else 'OUT'))\n",
    "except Exception as err:\n",
    "    print(err)"
   ]
  },
  {
   "cell_type": "markdown",
   "metadata": {},
   "source": [
    "The `print` statements above are a little clumsy. We can use the `lambda` function in python to quckly define a function that will then be used to print out info. Lambda functions are special in Python. They are one-liners and are extremely useful in the situation when our function is needed for convenience. W3School has a quick intro at [here](https://www.w3schools.com/python/python_lambda.asp)."
   ]
  },
  {
   "cell_type": "code",
   "execution_count": 3,
   "metadata": {},
   "outputs": [],
   "source": [
    "report = lambda res: 'IN' if res == True else 'OUT'"
   ]
  },
  {
   "cell_type": "markdown",
   "metadata": {},
   "source": [
    "The above lambda function is equivalent to this:\n",
    "\n",
    "```python\n",
    "def report(res):\n",
    "    if res == True:\n",
    "        return 'IN'\n",
    "    return 'OUT'\n",
    "```\n",
    "\n",
    "There pros and cons, but it is clear the lambda functions are meant for simplicity (in style)."
   ]
  },
  {
   "cell_type": "code",
   "execution_count": 4,
   "metadata": {
    "scrolled": true
   },
   "outputs": [
    {
     "name": "stdout",
     "output_type": "stream",
     "text": [
      "Point (5, 40) is OUT\n"
     ]
    }
   ],
   "source": [
    "print(\"Point %s is %s\"%(p4, report(pip_cross(p4, polygon1)[0]))) "
   ]
  },
  {
   "cell_type": "markdown",
   "metadata": {},
   "source": [
    "Here is a visual proof of the above results."
   ]
  },
  {
   "cell_type": "code",
   "execution_count": 5,
   "metadata": {
    "scrolled": true
   },
   "outputs": [
    {
     "data": {
      "image/png": "[encoded data removed]",
      "text/plain": [
       "<Figure size 432x288 with 1 Axes>"
      ]
     },
     "metadata": {
      "needs_background": "light"
     },
     "output_type": "display_data"
    }
   ],
   "source": [
    "%matplotlib inline\n",
    "import matplotlib.pyplot as plt\n",
    "\n",
    "_, ax = plt.subplots()\n",
    "line1 = [ [p.x, p.y] for p in polygon1 ]\n",
    "pg1 = plt.Polygon(line1, closed=True, fill=True, \n",
    "                  facecolor='#AAAAAA', edgecolor='grey', alpha=0.5)\n",
    "ax.add_patch(pg1)\n",
    "\n",
    "p8 = Point(40, 50)\n",
    "p9 = Point(26, 20)\n",
    "pts = [p1, p2, p3, p4, p5, p6, p7, p8, p9]\n",
    "\n",
    "report01 = lambda res: 1 if res is True else 0\n",
    "results = [report01(pip_cross(p, polygon1)[0]) for p in pts]\n",
    "\n",
    "colors = [['red', 'blue'][i] for i in results]\n",
    "l2 = plt.scatter([p.x for p in pts], [p.y for p in pts], color=colors, s=15)\n",
    "labels = ['p%s'%(i+1) for i in range(len(pts))]\n",
    "for i, p in enumerate(pts):\n",
    "    ax.text(p.x+1, p.y+1, labels[i], color=colors[i])\n",
    "  \n",
    "ax.set_aspect(1)\n",
    "ax.grid()\n",
    "\n",
    "\n",
    "plt.show()"
   ]
  },
  {
   "cell_type": "markdown",
   "metadata": {
    "collapsed": true
   },
   "source": [
    "Here are some more examples to examine how the algorithm works (or if it works)."
   ]
  },
  {
   "cell_type": "code",
   "execution_count": 6,
   "metadata": {},
   "outputs": [],
   "source": [
    "points2 = [ [0,10], [10,10], [10,0], [0,0], [0,10] ]\n",
    "polygon2 = [ Point(p[0], p[1]) for p in points2 ]\n",
    "\n",
    "p1 = Point(0, 0)\n",
    "p2 = Point(0, 5)\n",
    "p3 = Point(0, 10)\n",
    "p4 = Point(1, 10)\n",
    "p5 = Point(8, 10)\n",
    "p6 = Point(10, 10)\n",
    "p7 = Point(10, 9)\n",
    "p8 = Point(10, 0)\n",
    "p9 = Point(9, 0)\n",
    "p10 = Point(1, 0)\n",
    "p11 = Point(-1, 0)"
   ]
  },
  {
   "cell_type": "code",
   "execution_count": 7,
   "metadata": {},
   "outputs": [
    {
     "data": {
      "image/png": "[encoded data removed]",
      "text/plain": [
       "<Figure size 432x288 with 1 Axes>"
      ]
     },
     "metadata": {
      "needs_background": "light"
     },
     "output_type": "display_data"
    }
   ],
   "source": [
    "_, ax = plt.subplots()\n",
    "line1 = [ [p.x, p.y] for p in polygon2 ]\n",
    "pg1 = plt.Polygon(line1, closed=True, fill=True, \n",
    "                  facecolor='#AAAAAA', edgecolor='grey', alpha=0.5)\n",
    "ax.add_patch(pg1)\n",
    "\n",
    "pts = [p1, p2, p3, p4, p5, p6, p7, p8, p9, p10, p11]\n",
    "results = [report01(pip_cross(p, polygon2)[0]) for p in pts]\n",
    "\n",
    "colors = [['red', 'blue'][i] for i in results]\n",
    "l2 = ax.scatter([p.x for p in pts], [p.y for p in pts], color=colors, s=15)\n",
    "labels = ['p%s'%(i+1) for i in range(len(pts))]\n",
    "for i, p in enumerate(pts):\n",
    "    ax.text(p.x+0.1, p.y+0.1, labels[i], color=colors[i])\n",
    "\n",
    "ax.set_aspect(1)\n",
    "ax.set_xlim(-2, 12)\n",
    "ax.set_ylim(-2, 12)\n",
    "plt.show()"
   ]
  },
  {
   "cell_type": "markdown",
   "metadata": {},
   "source": [
    "Make it consistent"
   ]
  },
  {
   "cell_type": "code",
   "execution_count": 8,
   "metadata": {
    "scrolled": true
   },
   "outputs": [
    {
     "data": {
      "image/png": "[encoded data removed]",
      "text/plain": [
       "<Figure size 432x288 with 1 Axes>"
      ]
     },
     "metadata": {
      "needs_background": "light"
     },
     "output_type": "display_data"
    }
   ],
   "source": [
    "points2 = [ [0,10], [5, 15], [10,10], [10,0], [0,0], [0,10] ]\n",
    "polygon2 = [ Point(p[0], p[1]) for p in points2 ]\n",
    "\n",
    "other_points = [[0, 5], [1, 10], [8, 10], [10, 9], [9, 0], [1, 0], [2.5, 12.5], [0,15]]\n",
    "\n",
    "_, ax = plt.subplots()\n",
    "\n",
    "line1 = [ [p.x, p.y] for p in polygon2 ]\n",
    "pg1 = plt.Polygon(line1, closed=True, fill=True, \n",
    "                  facecolor='#AAAAAA', edgecolor='grey', alpha=0.5)\n",
    "ax.add_patch(pg1)\n",
    "\n",
    "pts = [Point(p[0], p[1]) for p in other_points]\n",
    "results = [report01(pip_cross(p, polygon2)[0]) for p in pts]\n",
    "\n",
    "colors = [['red', 'blue'][i] for i in results]\n",
    "l2 = plt.scatter([p.x for p in pts], [p.y for p in pts], color=colors, s=15)\n",
    "labels = ['p%s'%(i+1) for i in range(len(pts))]\n",
    "for i, p in enumerate(pts):\n",
    "    plt.text(p.x+0.1, p.y+0.1, labels[i], color=colors[i])\n",
    "\n",
    "pts = [Point(p[0], p[1]) for p in points2[:-1]]\n",
    "results = [report01(pip_cross(p, polygon2)[0]) for p in pts]\n",
    "\n",
    "colors = [['red', 'green'][i] for i in results]\n",
    "l2 = plt.scatter([p.x for p in pts], [p.y for p in pts], color=colors, s=15)\n",
    "labels = ['v%s'%(i+1) for i in range(len(pts))]\n",
    "for i, p in enumerate(pts):\n",
    "    plt.text(p.x+0.1, p.y+0.1, labels[i], color=colors[i])\n",
    "\n",
    "    \n",
    "ax.set_aspect(1)\n",
    "ax.set_xlim(-2, 12)\n",
    "ax.set_ylim(-2, 17)\n",
    "plt.show()"
   ]
  },
  {
   "cell_type": "markdown",
   "metadata": {},
   "source": [
    "Here is an ultimate test where we set up a more complicated polygon and test a number of points around each of the vertices."
   ]
  },
  {
   "cell_type": "code",
   "execution_count": 9,
   "metadata": {},
   "outputs": [],
   "source": [
    "star = [ [2,1], [5,3], [8,1], [7,4], [9,7], [7,7], [5,11], [3,7], [1,7], [3,4], [2,1] ]\n",
    "star = [ Point(p[0], p[1]) for p in star ]\n",
    "\n",
    "delta = [-0.5, 0, 0.5]\n",
    "near_points = []\n",
    "for p in star:\n",
    "    for dx in delta:\n",
    "        for dy in delta:\n",
    "            if not (dx == 0 and dy == 0):\n",
    "                p0 = Point(p.x+dx, p.y+dy)\n",
    "                near_points.append(p0)"
   ]
  },
  {
   "cell_type": "markdown",
   "metadata": {},
   "source": [
    "Or equivelantly using list comprehension:"
   ]
  },
  {
   "cell_type": "code",
   "execution_count": 10,
   "metadata": {},
   "outputs": [],
   "source": [
    "near_points = [Point(p.x+dx, p.y+dy) \n",
    "               for dx in delta \n",
    "               for dy in delta \n",
    "               for p in star \n",
    "               if not (dx==0 and dy==0)]"
   ]
  },
  {
   "cell_type": "code",
   "execution_count": 11,
   "metadata": {},
   "outputs": [
    {
     "data": {
      "image/png": "[encoded data removed]",
      "text/plain": [
       "<Figure size 432x288 with 1 Axes>"
      ]
     },
     "metadata": {
      "needs_background": "light"
     },
     "output_type": "display_data"
    }
   ],
   "source": [
    "_, ax = plt.subplots()\n",
    "\n",
    "line1 = [ [p.x, p.y] for p in star ]\n",
    "pg1 = plt.Polygon(line1, closed=True, fill=True, facecolor='#AAAAAA', edgecolor='grey', alpha=0.5)\n",
    "ax.add_patch(pg1)\n",
    "\n",
    "results = [report01(pip_cross(p, star)[0]) for p in near_points]\n",
    "colors = [['red', 'blue'][i] for i in results]\n",
    "l2 = ax.scatter([p.x for p in near_points], [p.y for p in near_points], color=colors, s=15)\n",
    "\n",
    "results = [report01(pip_cross(p, star)[0]) for p in star[:-1]]\n",
    "colors = [['red', 'green'][i] for i in results]\n",
    "l2 = ax.scatter([p.x for p in star[:-1]], [p.y for p in star[:-1]], color=colors, s=15)\n",
    "    \n",
    "ax.set_aspect(1)\n",
    "ax.set_xlim(0, 10)\n",
    "ax.set_ylim(0, 13)\n",
    "ax.grid()\n",
    "plt.show()"
   ]
  },
  {
   "cell_type": "markdown",
   "metadata": {},
   "source": [
    "## Random points on the polygon\n",
    "\n",
    "We are going to use what we have learned so far to do an experiment. First, let's make a triangle that has a minimal bounding box (envelope) defined as [0, 10, 0, 10], which are the lower bound and upper bound of x and y coordinates, respectively. Now we randomly generate 100 points and count how many points are within the triangle. What is the proportion of the points within the triangle? This should give us an estimate of the area of the triangle. But this is just one estimation. If we do this again, we would get a different answer. If we repeat this process 100 times, each time we have an estimate of the size of the triangle and we can plot a histogram that should tell us a lot about the size of the triangle. We can also draw the points with the triangle to get some kind of visual proof. This experiment can go on (for example, we can use 1000 points instead of 100) and the more we do the more we will learn some fundamental scientific concepts, such as computational geometry and Monte Carlo simulation. \n"
   ]
  },
  {
   "cell_type": "code",
   "execution_count": 16,
   "metadata": {},
   "outputs": [
    {
     "name": "stdout",
     "output_type": "stream",
     "text": [
      "37.5\n"
     ]
    }
   ],
   "source": [
    "import random\n",
    "\n",
    "triangle = [Point(p[0], p[1]) for p in [ [0, 0], [10,5], [5,10], [0,0] ]]\n",
    "\n",
    "bounds = [[0,0], [10,0], [10,10], [0,10]]\n",
    "points = [Point(random.random()*10, random.random()*10) for i in range(100)]\n",
    "\n",
    "num_in = 0\n",
    "\n",
    "report01 = lambda res: 1 if res is True else 0\n",
    "results = [report01(pip_cross(p, triangle)[0]) for p in points]\n",
    "\n",
    "# TODO: print out the area of the triangle\n",
    "#       using the centroid function to calculate\n",
    "from geom.centroid import *\n",
    "\n",
    "print(centroid(triangle)[0])"
   ]
  },
  {
   "cell_type": "code",
   "execution_count": 13,
   "metadata": {},
   "outputs": [
    {
     "data": {
      "image/png": "[encoded data removed]",
      "text/plain": [
       "<Figure size 432x288 with 1 Axes>"
      ]
     },
     "metadata": {
      "needs_background": "light"
     },
     "output_type": "display_data"
    }
   ],
   "source": [
    "_, ax = plt.subplots()\n",
    "\n",
    "line1 = [ [p.x, p.y] for p in triangle ]\n",
    "l1 = plt.Polygon(line1, closed=True, fill=True, facecolor='#AAAAAA', edgecolor='none', alpha=0.5)\n",
    "ax.add_patch(l1)\n",
    "\n",
    "l1 = plt.Polygon(bounds, closed=True, fill=False, edgecolor='k', alpha=0.5)\n",
    "ax.add_patch(l1)\n",
    "\n",
    "colors = [['red', 'blue'][i] for i in results]\n",
    "l3 = plt.scatter([p.x for p in points], [p.y for p in points], color=colors, s=15)\n",
    "\n",
    "ax.axis('equal')\n",
    "plt.show()"
   ]
  },
  {
   "cell_type": "markdown",
   "metadata": {},
   "source": [
    "Now we repeat the this procedure 500 times. Each time will give us a measure of the points falling in the same triangle. This is called Monte-Carlo simulation -- we do the same thing randomly, a lot, and hope at the end we can learn something about that is more likely to happen. "
   ]
  },
  {
   "cell_type": "code",
   "execution_count": 14,
   "metadata": {},
   "outputs": [],
   "source": [
    "def count_in_triangle(points, triangle):\n",
    "    results = [report01(pip_cross(p, triangle)[0]) for p in points]\n",
    "    return sum(results)\n",
    "\n",
    "counts = []\n",
    "for i in range(500):\n",
    "    points = [Point(random.random()*10, random.random()*10) for i in range(100)]\n",
    "    counts.append(count_in_triangle(points, triangle))"
   ]
  },
  {
   "cell_type": "code",
   "execution_count": 15,
   "metadata": {},
   "outputs": [
    {
     "data": {
      "image/png": "[encoded data removed]",
      "text/plain": [
       "<Figure size 432x288 with 1 Axes>"
      ]
     },
     "metadata": {
      "needs_background": "light"
     },
     "output_type": "display_data"
    }
   ],
   "source": [
    "ax = plt.gca()\n",
    "ax.hist(counts, 10, facecolor='grey', edgecolor='black', alpha=0.75)\n",
    "plt.show()"
   ]
  }
 ],
 "metadata": {
  "kernelspec": {
   "display_name": "Python 3",
   "language": "python",
   "name": "python3"
  },
  "language_info": {
   "codemirror_mode": {
    "name": "ipython",
    "version": 3
   },
   "file_extension": ".py",
   "mimetype": "text/x-python",
   "name": "python",
   "nbconvert_exporter": "python",
   "pygments_lexer": "ipython3",
   "version": "3.8.5"
  }
 },
 "nbformat": 4,
 "nbformat_minor": 1
}
