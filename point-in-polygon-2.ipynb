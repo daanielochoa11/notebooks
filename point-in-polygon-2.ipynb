{
  "cells": [
    {
      "cell_type": "markdown",
      "metadata": {
        "id": "u1_HXpe16gx_"
      },
      "source": [
        "<a href=\"https://colab.research.google.com/github/gisalgs/notebooks/blob/main/point-in-polygon-2.ipynb\">\n",
        "  <img src=\"https://colab.research.google.com/assets/colab-badge.svg\" alt=\"Open In Colab\"/>\n",
        "</a>\n",
        "\n",
        "\n",
        "# Point-in-Polygon: Even-odd Algorithm\n",
        "\n",
        "Point-in-polygon is a crucial operation when we handle spatial data. For example, if we click on a polygon in QGIS, we want to quickly pull out the data about this polygon (instead of waiting for a while before the data shows up). There are many ways to determine whether a point is in a polygon and we introduce the even-odd algorithm here. To determine if a point (such as one of the dots in following figure) is in a polygon, we first draw a half line that starts from the point and points to the right of the point. If the half line intersects with the polygon in an odd number of times, then we say the point is in the polygon. Otherwise the point is outside the polygon. \n",
        "\n",
        "![](https://github.com/gisalgs/notebooks/blob/main/figures/pip-1.png?raw=1)\n",
        "\n",
        "This seemingly simple algorithm, however, has many special cases that are tedious and must be addressed. For example, the half line *a* in the figure has a part of the polygon boundary on it and we will have to decide how many times the half lines intersects the polygon. Also, when a half line (e.g., *b* and *c*) goes through a vertex of the polygon, how many times should we count the intersection?\n",
        "\n",
        "The next consideration is the calculation of intersection points. Computing the physical intersection point, if any, is an expensive process -- it takes some time to do and it takes a lot of times if we have a lot of intersection points to compute. To understand this, we should remember the so called polygon in GIS has many line segments and we will have to test whether each of the line segments intersects with the half line. That sounds a lot. But the good news is: we don't have to get the physical intersection point for most of the cases. For many cases, we just need to make a quick decision whether the half line intersects with the boundary. We can illustrate this using the following figure. \n",
        "\n",
        "![](https://github.com/gisalgs/notebooks/blob/main/figures/pip-2.png?raw=1)\n",
        "\n",
        "In the above figure, it is clear that the half line (the one starts at point *A*) is not going to intersect with line segments *a*, *d*, and *e*. Line segment *c* crosses the half line, but we don't need to compute the intersection point --- we know for fact they will intersect because the two end points of *c* are on the different sides of the half line, and are to the right of point *A*. Taking out these cases, we only have one case left: line segments like *b* or *b'* where the two end points are on both sizes of the half line but one of the end point is to the left of point *A*. \n",
        "\n",
        "Then we need to consider a few **special cases**, when the point (dark dot below) is on one of the two ends of the line segment, or on a horizontal or vertical line.\n",
        "\n",
        "![](https://github.com/gisalgs/notebooks/blob/main/figures/point-in-polygon-special-cases.png?raw=1)\n",
        "\n",
        "In this tutorial, we are not going to discuss the details of calculating intersection of two line segments. Please refer to sections 2.5 and 2.6 in the *GIS Algorithms* book for those details. \n",
        "\n",
        "To run the code in this tutorial in a Jupyter notebook on Google Colab, we need to make sure the following line is executed to load the modules."
      ]
    },
    {
      "cell_type": "code",
      "execution_count": 1,
      "metadata": {
        "id": "zFOgCHqj6gyD",
        "outputId": "c91c0e2a-3384-4191-ce33-d762dc6ef145",
        "colab": {
          "base_uri": "https://localhost:8080/"
        }
      },
      "outputs": [
        {
          "output_type": "stream",
          "name": "stdout",
          "text": [
            "Cloning into 'geom'...\n",
            "remote: Enumerating objects: 314, done.\u001b[K\n",
            "remote: Total 314 (delta 0), reused 0 (delta 0), pack-reused 314\u001b[K\n",
            "Receiving objects: 100% (314/314), 57.03 KiB | 9.50 MiB/s, done.\n",
            "Resolving deltas: 100% (177/177), done.\n"
          ]
        }
      ],
      "source": [
        "!git clone https://github.com/gisalgs/geom.git "
      ]
    },
    {
      "cell_type": "markdown",
      "metadata": {
        "id": "o_wTwj-m6gyE"
      },
      "source": [
        "To run the code here on a local Python interactive mode, we need to download the necessary files into the proper folder and then do something like this:\n",
        "\n",
        "```python\n",
        "import sys\n",
        "sys.path.append('/home/xiao/lib/gisalgs')\n",
        "```"
      ]
    },
    {
      "cell_type": "markdown",
      "metadata": {
        "id": "TuPrW4uQ6gyF"
      },
      "source": [
        "More detail about the even-odd algorithm for checking if a point is in a polygon can be found in Section 2.7 of the textbook. The source code is saved as a module in [point_in_polygon.py](https://github.com/gisalgs/geom/blob/master/point_in_polygon.py). This code was adopted from the C program in Graphics Gems IV by Haines (1994). The function takes two inputs: a point and a polygon. The polygon is organized as a list of Point objects. The code will raise an error if the polygon is not closed. \n",
        "\n"
      ]
    },
    {
      "cell_type": "code",
      "execution_count": 2,
      "metadata": {
        "scrolled": true,
        "id": "bbT1cJpj6gyG",
        "outputId": "b820ac06-5196-46a1-94a8-fb8eb11296e2",
        "colab": {
          "base_uri": "https://localhost:8080/"
        }
      },
      "outputs": [
        {
          "output_type": "stream",
          "name": "stdout",
          "text": [
            "Point (10, 30) is IN\n",
            "Point (10, 20) is IN\n",
            "Point (20, 40) is IN\n",
            "Point (5, 40) is OUT\n",
            "Point (35, 20) is IN\n",
            "Point (55, 50) is IN\n",
            "Point (5, 39.5) is IN\n",
            "Point (10, 30) is OUT\n"
          ]
        }
      ],
      "source": [
        "from geom.point import *\n",
        "from geom.point_in_polygon import *\n",
        "\n",
        "points1 = [ [0,10], [5,0], [10,10], [15,0], [20,10],\n",
        "           [25,0], [30,20], [40,20], [45,0], [60, 50], [50,50],\n",
        "           [40,40], [30,50], [25,20], [20,50], [15,10],\n",
        "           [10,50], [8, 8], [4,50], [0,10] ]\n",
        "polygon1 = [ Point(p[0], p[1]) for p in points1 ]\n",
        "\n",
        "p1 = Point(10, 30)\n",
        "p2 = Point(10, 20)\n",
        "p3 = Point(20, 40)\n",
        "p4 = Point(5, 40)\n",
        "p5 = Point(35, 20)\n",
        "p6 = Point(55, 50)\n",
        "p7 = Point(5, 39.5)\n",
        "\n",
        "print(\"Point %s is %s\"%(p1, 'IN' if pip_cross(p1, polygon1)[0] is True else 'OUT'))\n",
        "print(\"Point %s is %s\"%(p2, 'IN' if pip_cross(p2, polygon1)[0] is True else 'OUT'))\n",
        "print(\"Point %s is %s\"%(p3, 'IN' if pip_cross(p3, polygon1)[0] is True else 'OUT'))\n",
        "print(\"Point %s is %s\"%(p4, 'IN' if pip_cross(p4, polygon1)[0] is True else 'OUT'))\n",
        "print(\"Point %s is %s\"%(p5, 'IN' if pip_cross(p5, polygon1)[0] is True else 'OUT'))\n",
        "print(\"Point %s is %s\"%(p6, 'IN' if pip_cross(p6, polygon1)[0] is True else 'OUT'))\n",
        "print(\"Point %s is %s\"%(p7, 'IN' if pip_cross(p7, polygon1)[0] is True else 'OUT'))\n",
        "\n",
        "points2 = [ [0,10], [5,0], [10,10], [15,0], [20,10] ]\n",
        "polygon2 = [[Point(p[0], p[1]) for p in points2 ]]\n",
        "\n",
        "try:\n",
        "    print(\"Point %s is %s\"%(p1, 'IN' if pip_cross(p1, polygon2)[0] is True else 'OUT'))\n",
        "except Exception as err:\n",
        "    print(err)"
      ]
    },
    {
      "cell_type": "markdown",
      "metadata": {
        "id": "3kmwmHXX6gyG"
      },
      "source": [
        "The `print` statements above are a little clumsy. We can use the `lambda` function in python to quckly define a function that will then be used to print out info. Lambda functions are special in Python. They are one-liners and are extremely useful in the situation when our function is needed for convenience. W3School has a quick intro at [here](https://www.w3schools.com/python/python_lambda.asp)."
      ]
    },
    {
      "cell_type": "code",
      "execution_count": 3,
      "metadata": {
        "id": "Q-IGVwTz6gyH"
      },
      "outputs": [],
      "source": [
        "report = lambda res: 'IN' if res == True else 'OUT'"
      ]
    },
    {
      "cell_type": "markdown",
      "metadata": {
        "id": "VVUA-WXa6gyH"
      },
      "source": [
        "The above lambda function is equivalent to this:\n",
        "\n",
        "```python\n",
        "def report(res):\n",
        "    if res == True:\n",
        "        return 'IN'\n",
        "    return 'OUT'\n",
        "```\n",
        "\n",
        "There pros and cons, but it is clear the lambda functions are meant for simplicity (in style)."
      ]
    },
    {
      "cell_type": "code",
      "execution_count": 4,
      "metadata": {
        "scrolled": true,
        "id": "Pz2b7cT36gyI",
        "outputId": "159088ba-8154-46ae-e6fc-870cf06dd82a",
        "colab": {
          "base_uri": "https://localhost:8080/"
        }
      },
      "outputs": [
        {
          "output_type": "stream",
          "name": "stdout",
          "text": [
            "Point (5, 40) is OUT\n"
          ]
        }
      ],
      "source": [
        "print(\"Point %s is %s\"%(p4, report(pip_cross(p4, polygon1)[0]))) "
      ]
    },
    {
      "cell_type": "markdown",
      "metadata": {
        "id": "jzALbWCJ6gyI"
      },
      "source": [
        "Here is a visual proof of the above results. Note we use a new lambda function that returns 1 or 0 instead of 'IN' or 'OUT'. "
      ]
    },
    {
      "cell_type": "code",
      "execution_count": 5,
      "metadata": {
        "scrolled": true,
        "id": "IgLjvMjU6gyJ",
        "outputId": "d085c6f2-424a-4226-f6d6-e19f3249ecbe",
        "colab": {
          "base_uri": "https://localhost:8080/",
          "height": 267
        }
      },
      "outputs": [
        {
          "output_type": "display_data",
          "data": {
            "image/png": "[encoded data removed]",
            "text/plain": [
              "<Figure size 432x288 with 1 Axes>"
            ]
          },
          "metadata": {
            "needs_background": "light"
          }
        }
      ],
      "source": [
        "%matplotlib inline\n",
        "import matplotlib.pyplot as plt\n",
        "\n",
        "_, ax = plt.subplots()\n",
        "line1 = [ [p.x, p.y] for p in polygon1 ]\n",
        "pg1 = plt.Polygon(line1, closed=True, fill=True, \n",
        "                  facecolor='#AAAAAA', edgecolor='grey', alpha=0.5)\n",
        "ax.add_patch(pg1)\n",
        "\n",
        "p8 = Point(40, 50)\n",
        "p9 = Point(26, 20)\n",
        "pts = [p1, p2, p3, p4, p5, p6, p7, p8, p9]\n",
        "\n",
        "report01 = lambda res: 1 if res is True else 0\n",
        "results = [report01(pip_cross(p, polygon1)[0]) for p in pts]\n",
        "\n",
        "colors = [['red', 'blue'][i] for i in results]\n",
        "l2 = plt.scatter([p.x for p in pts], [p.y for p in pts], color=colors, s=15)\n",
        "labels = ['p%s'%(i+1) for i in range(len(pts))]\n",
        "for i, p in enumerate(pts):\n",
        "    ax.text(p.x+1, p.y+1, labels[i], color=colors[i])\n",
        "  \n",
        "ax.set_aspect(1)\n",
        "ax.grid()\n",
        "\n",
        "plt.show()"
      ]
    },
    {
      "cell_type": "markdown",
      "metadata": {
        "collapsed": true,
        "id": "fH9Tym156gyJ"
      },
      "source": [
        "Here are some more examples to examine how the algorithm works (or if it works)."
      ]
    },
    {
      "cell_type": "code",
      "execution_count": 6,
      "metadata": {
        "id": "OhxYY-IT6gyJ"
      },
      "outputs": [],
      "source": [
        "points2 = [ [0,10], [10,10], [10,0], [0,0], [0,10] ]\n",
        "polygon2 = [ Point(p[0], p[1]) for p in points2 ]\n",
        "\n",
        "p1 = Point(0, 0)\n",
        "p2 = Point(0, 5)\n",
        "p3 = Point(0, 10)\n",
        "p4 = Point(1, 10)\n",
        "p5 = Point(8, 10)\n",
        "p6 = Point(10, 10)\n",
        "p7 = Point(10, 9)\n",
        "p8 = Point(10, 0)\n",
        "p9 = Point(9, 0)\n",
        "p10 = Point(1, 0)\n",
        "p11 = Point(-1, 0)"
      ]
    },
    {
      "cell_type": "code",
      "execution_count": 7,
      "metadata": {
        "id": "1iN_73f-6gyK",
        "outputId": "e6d059b0-05b0-4c8e-9d73-83738b340008",
        "colab": {
          "base_uri": "https://localhost:8080/",
          "height": 269
        }
      },
      "outputs": [
        {
          "output_type": "display_data",
          "data": {
            "image/png": "[encoded data removed]",
            "text/plain": [
              "<Figure size 432x288 with 1 Axes>"
            ]
          },
          "metadata": {
            "needs_background": "light"
          }
        }
      ],
      "source": [
        "_, ax = plt.subplots()\n",
        "line1 = [ [p.x, p.y] for p in polygon2 ]\n",
        "pg1 = plt.Polygon(line1, closed=True, fill=True, \n",
        "                  facecolor='#AAAAAA', edgecolor='grey', alpha=0.5)\n",
        "ax.add_patch(pg1)\n",
        "\n",
        "pts = [p1, p2, p3, p4, p5, p6, p7, p8, p9, p10, p11]\n",
        "results = [report01(pip_cross(p, polygon2)[0]) for p in pts]\n",
        "\n",
        "colors = [['red', 'blue'][i] for i in results]\n",
        "l2 = ax.scatter([p.x for p in pts], [p.y for p in pts], color=colors, s=15)\n",
        "labels = ['p%s'%(i+1) for i in range(len(pts))]\n",
        "for i, p in enumerate(pts):\n",
        "    ax.text(p.x+0.1, p.y+0.1, labels[i], color=colors[i])\n",
        "\n",
        "ax.set_aspect(1)\n",
        "ax.set_xlim(-2, 12)\n",
        "ax.set_ylim(-2, 12)\n",
        "plt.show()"
      ]
    },
    {
      "cell_type": "markdown",
      "metadata": {
        "id": "-AMZmJko6gyK"
      },
      "source": [
        "Make it consistent"
      ]
    },
    {
      "cell_type": "code",
      "execution_count": 8,
      "metadata": {
        "scrolled": true,
        "id": "-mFde9ZF6gyK",
        "outputId": "7b57990f-403b-4dd4-cbd1-9fbced53ca60",
        "colab": {
          "base_uri": "https://localhost:8080/",
          "height": 265
        }
      },
      "outputs": [
        {
          "output_type": "display_data",
          "data": {
            "image/png": "[encoded data removed]",
            "text/plain": [
              "<Figure size 432x288 with 1 Axes>"
            ]
          },
          "metadata": {
            "needs_background": "light"
          }
        }
      ],
      "source": [
        "points2 = [ [0,10], [5, 15], [10,10], [10,0], [0,0], [0,10] ]\n",
        "polygon2 = [ Point(p[0], p[1]) for p in points2 ]\n",
        "\n",
        "other_points = [[0, 5], [1, 10], [8, 10], [10, 9], [9, 0], [1, 0], [2.5, 12.5], [0,15]]\n",
        "\n",
        "_, ax = plt.subplots()\n",
        "\n",
        "line1 = [ [p.x, p.y] for p in polygon2 ]\n",
        "pg1 = plt.Polygon(line1, closed=True, fill=True, \n",
        "                  facecolor='#AAAAAA', edgecolor='grey', alpha=0.5)\n",
        "ax.add_patch(pg1)\n",
        "\n",
        "pts = [Point(p[0], p[1]) for p in other_points]\n",
        "results = [report01(pip_cross(p, polygon2)[0]) for p in pts]\n",
        "\n",
        "colors = [['red', 'blue'][i] for i in results]\n",
        "l2 = plt.scatter([p.x for p in pts], [p.y for p in pts], color=colors, s=15)\n",
        "labels = ['p%s'%(i+1) for i in range(len(pts))]\n",
        "for i, p in enumerate(pts):\n",
        "    plt.text(p.x+0.1, p.y+0.1, labels[i], color=colors[i])\n",
        "\n",
        "pts = [Point(p[0], p[1]) for p in points2[:-1]]\n",
        "results = [report01(pip_cross(p, polygon2)[0]) for p in pts]\n",
        "\n",
        "colors = [['red', 'green'][i] for i in results]\n",
        "l2 = plt.scatter([p.x for p in pts], [p.y for p in pts], color=colors, s=15)\n",
        "labels = ['v%s'%(i+1) for i in range(len(pts))]\n",
        "for i, p in enumerate(pts):\n",
        "    plt.text(p.x+0.1, p.y+0.1, labels[i], color=colors[i])\n",
        "\n",
        "    \n",
        "ax.set_aspect(1)\n",
        "ax.set_xlim(-2, 12)\n",
        "ax.set_ylim(-2, 17)\n",
        "plt.show()"
      ]
    },
    {
      "cell_type": "markdown",
      "metadata": {
        "id": "n9Sz1XLr6gyL"
      },
      "source": [
        "Here is an ultimate test where we set up a more complicated polygon and test a number of points around each of the vertices."
      ]
    },
    {
      "cell_type": "code",
      "execution_count": 9,
      "metadata": {
        "id": "0kHymaHq6gyL"
      },
      "outputs": [],
      "source": [
        "star = [ [2,1], [5,3], [8,1], [7,4], [9,7], [7,7], [5,11], [3,7], [1,7], [3,4], [2,1] ]\n",
        "star = [ Point(p[0], p[1]) for p in star ]\n",
        "\n",
        "delta = [-0.5, 0, 0.5]\n",
        "near_points = []\n",
        "for p in star:\n",
        "    for dx in delta:\n",
        "        for dy in delta:\n",
        "            if not (dx == 0 and dy == 0):\n",
        "                p0 = Point(p.x+dx, p.y+dy)\n",
        "                near_points.append(p0)"
      ]
    },
    {
      "cell_type": "markdown",
      "metadata": {
        "id": "2sKafgnY6gyL"
      },
      "source": [
        "Or equivelantly using list comprehension:"
      ]
    },
    {
      "cell_type": "code",
      "execution_count": 10,
      "metadata": {
        "id": "RLynSiaL6gyL"
      },
      "outputs": [],
      "source": [
        "near_points = [Point(p.x+dx, p.y+dy) \n",
        "               for dx in delta \n",
        "               for dy in delta \n",
        "               for p in star \n",
        "               if not (dx==0 and dy==0)]"
      ]
    },
    {
      "cell_type": "code",
      "execution_count": 11,
      "metadata": {
        "id": "Ul1M1QCA6gyM",
        "outputId": "292be2e2-ec45-4305-b4ab-e480bfbf141a",
        "colab": {
          "base_uri": "https://localhost:8080/",
          "height": 265
        }
      },
      "outputs": [
        {
          "output_type": "display_data",
          "data": {
            "image/png": "[encoded data removed]",
            "text/plain": [
              "<Figure size 432x288 with 1 Axes>"
            ]
          },
          "metadata": {
            "needs_background": "light"
          }
        }
      ],
      "source": [
        "_, ax = plt.subplots()\n",
        "\n",
        "line1 = [ [p.x, p.y] for p in star ]\n",
        "pg1 = plt.Polygon(line1, closed=True, fill=True, facecolor='#AAAAAA', edgecolor='grey', alpha=0.5)\n",
        "ax.add_patch(pg1)\n",
        "\n",
        "results = [report01(pip_cross(p, star)[0]) for p in near_points]\n",
        "colors = [['red', 'blue'][i] for i in results]\n",
        "l2 = ax.scatter([p.x for p in near_points], [p.y for p in near_points], color=colors, s=15)\n",
        "\n",
        "results = [report01(pip_cross(p, star)[0]) for p in star[:-1]]\n",
        "colors = [['red', 'green'][i] for i in results]\n",
        "l2 = ax.scatter([p.x for p in star[:-1]], [p.y for p in star[:-1]], color=colors, s=15)\n",
        "    \n",
        "ax.set_aspect(1)\n",
        "ax.set_xlim(0, 10)\n",
        "ax.set_ylim(0, 13)\n",
        "ax.grid()\n",
        "plt.show()"
      ]
    },
    {
      "cell_type": "markdown",
      "metadata": {
        "id": "8WGFiU0T6gyM"
      },
      "source": [
        "## Random points on the polygon\n",
        "\n",
        "We are going to use what we have learned so far to do an experiment. First, let's make a triangle that has a minimum bounding box (envelope) defined as [0, 10, 0, 10], which are the lower bound and upper bound of x and y coordinates, respectively. Now we randomly generate 100 points and count how many points are within the triangle. What is the proportion of the points within the triangle? This should give us an estimate of the area of the triangle. But this is just one estimation. If we do this again, we would get a different answer. If we repeat this process 500 times, each time we have an estimate of the size of the triangle and we can plot a histogram that should tell us a lot about the size of the triangle. We can also draw the points with the triangle to get some kind of visual proof. This experiment can go on (for example, we can use 1000 points instead of 100) and the more we do the more we will learn some fundamental scientific concepts, such as computational geometry and Monte Carlo simulation. \n"
      ]
    },
    {
      "cell_type": "code",
      "execution_count": null,
      "metadata": {
        "id": "zgguvlMB6gyM"
      },
      "outputs": [],
      "source": [
        "import random\n",
        "\n",
        "# TODO: set the triangle here\n",
        "#       make sure its *minimum bounding box is [0, 10, 0, 10]\n",
        "#\n",
        "triangle = \n",
        "\n",
        "# TODO: get 100 random points within the bounds\n",
        "points = \n",
        "\n",
        "num_in = 0\n",
        "\n",
        "report01 = lambda res: 1 if res is True else 0\n",
        "results = [report01(pip_cross(p, triangle)[0]) for p in points]\n",
        "\n",
        "# TODO: print out the area of the triangle\n",
        "#       using the centroid function to calculate\n",
        "#\n",
        "\n"
      ]
    },
    {
      "cell_type": "code",
      "execution_count": null,
      "metadata": {
        "id": "E-435Yw86gyM"
      },
      "outputs": [],
      "source": [
        "_, ax = plt.subplots()\n",
        "\n",
        "line1 = [ [p.x, p.y] for p in triangle ]\n",
        "l1 = plt.Polygon(line1, closed=True, fill=True, facecolor='#AAAAAA', edgecolor='none', alpha=0.5)\n",
        "ax.add_patch(l1)\n",
        "\n",
        "# TODO: make a square that is the minimum bounding box of the triangle\n",
        "#\n",
        "bounds = \n",
        "\n",
        "l1 = plt.Polygon(bounds, closed=True, fill=False, edgecolor='k', alpha=0.5)\n",
        "ax.add_patch(l1)\n",
        "\n",
        "colors = [['red', 'blue'][i] for i in results]\n",
        "l3 = plt.scatter([p.x for p in points], [p.y for p in points], color=colors, s=15)\n",
        "\n",
        "ax.axis('equal')\n",
        "plt.show()"
      ]
    },
    {
      "cell_type": "markdown",
      "metadata": {
        "id": "nzEfnhuE6gyN"
      },
      "source": [
        "Now we repeat the this procedure 500 times. Each time will give us a measure of the points falling in the same triangle. This is called Monte-Carlo simulation -- we do the same thing randomly, a lot, and hope at the end we can learn something about that is more likely to happen. "
      ]
    },
    {
      "cell_type": "code",
      "execution_count": null,
      "metadata": {
        "id": "-ENb9tD76gyN"
      },
      "outputs": [],
      "source": [
        "def count_in_triangle(points, polygon):\n",
        "    '''\n",
        "    Count how many points fall in the polygon.\n",
        "    \n",
        "    Input\n",
        "        points - a list of Point objects\n",
        "        polygon - a list Point objects that form a polygon\n",
        "                  the polygon must be closed\n",
        "                  \n",
        "    Output\n",
        "        the number of points inside the polygon\n",
        "    '''\n",
        "    results = [report01(pip_cross(p, polygon)[0]) for p in points]\n",
        "    return sum(results)\n",
        "\n",
        "counts = []\n",
        "\n",
        "# TODO: in a loop that repeats 500 times\n",
        "#           generate a 1000 random points\n",
        "#           use the above count to count how many points are in the triangle\n",
        "#           append the count number into counts\n",
        "\n"
      ]
    },
    {
      "cell_type": "markdown",
      "metadata": {
        "id": "Yjn8_EY46gyN"
      },
      "source": [
        "Now, after 500 repeats, we can draw the histogram of the counts:"
      ]
    },
    {
      "cell_type": "code",
      "execution_count": null,
      "metadata": {
        "id": "jYlCbTMf6gyN"
      },
      "outputs": [],
      "source": [
        "ax = plt.gca()\n",
        "ax.hist(counts, 10, facecolor='grey', edgecolor='black', alpha=0.75)\n",
        "plt.show()"
      ]
    }
  ],
  "metadata": {
    "kernelspec": {
      "display_name": "Python 3",
      "language": "python",
      "name": "python3"
    },
    "language_info": {
      "codemirror_mode": {
        "name": "ipython",
        "version": 3
      },
      "file_extension": ".py",
      "mimetype": "text/x-python",
      "name": "python",
      "nbconvert_exporter": "python",
      "pygments_lexer": "ipython3",
      "version": "3.8.5"
    },
    "colab": {
      "name": "point-in-polygon-2.ipynb",
      "provenance": [],
      "toc_visible": true
    }
  },
  "nbformat": 4,
  "nbformat_minor": 0
}