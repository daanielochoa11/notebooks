{
 "cells": [
  {
   "cell_type": "markdown",
   "metadata": {},
   "source": [
    "<a href=\"https://colab.research.google.com/github/gisalgs/notebooks/blob/main/point-quadtree-colab.ipynb\">\n",
    "  <img src=\"https://colab.research.google.com/assets/colab-badge.svg\" alt=\"Open In Colab\"/>\n",
    "</a>\n",
    "\n",
    "# Point Quadtrees\n",
    "\n",
    "In k-D trees, we use the two coordinates alternatively. Now we see how to use the two coordinates simultaneously. In this way, we define a quadtree, where we divide the space into four quadrants (hence **quadt**ree) at each point going down the tree. we continue to partition the space into quads until each quad contains no more than 1 point. The points are inserted into the tree using a sequence defined by the user. For example, in the following example, we insert the points using the alphabetic order.\n",
    "\n",
    "<img src=\"figures/quadtree1.png\" width=450/>\n",
    "\n",
    "There are different kinds of quadtrees. The one we described in the above figure is called **point quadtree**: we index points using the coordinates of the points. Another type of quadtree for points is called **point region quadtree** where we partition the region as in region quadtrees. We can also use quadtree to index raster data, and data for lines and rectangles. [Hanan Samet](http://www.cs.umd.edu/~hjs/) and his colleagues at the University of Maryland used to maintain a [web site](http://donar.umiacs.umd.edu/quadtree/) that has an excellent collection of demos for quadtrees and k-D tree, but the site is no longer available after many years.\n",
    "\n",
    "The concepts of the point queadtree will be introduced in class or through an online video. There is also a set of exercises associated \n",
    "\n",
    "## Programming point quadtrees\n",
    "\n",
    "We develop a specific class to store the node of a point quadtree. This node will have four child nodes, each named using the direction of the quadrant:\n",
    "\n",
    "```python\n",
    "class PQuadTreeNode():\n",
    "    def __init__(self,point,nw=None,ne=None,se=None,sw=None):\n",
    "        self.point = point\n",
    "        self.nw = nw\n",
    "        self.ne = ne\n",
    "        self.se = se\n",
    "        self.sw = sw\n",
    "    def __repr__(self):\n",
    "        return str(self.point)\n",
    "    def is_leaf(self):\n",
    "        return self.nw==None and self.ne==None and self.se==None and self.sw==None\n",
    "```\n",
    "\n",
    "\n",
    "We can also develop a similar strategy to go down the tree to search for information as we did for the generic binary tree and for k-D tree. Here we use a variable `q` for the node, `p` is the point to be found, and `is_find_only` specifies the purpose of search (again, find if point `p` is in the tree or which node should be the parent node if `p` is inserted into the tree). When `is_find_only` is `False`, we return the node that is the parent node of point `p` if it is to be inserted into the tree. \n",
    "\n",
    "```python\n",
    "def search_pqtree(q, p, is_find_only=True):\n",
    "    if q is None:\n",
    "        return\n",
    "    if q.point == p:\n",
    "        if is_find_only:\n",
    "            return q\n",
    "        else:\n",
    "            return\n",
    "    dx,dy = 0,0\n",
    "    if p.x > q.point.x:\n",
    "        dx = 1\n",
    "    if p.y > q.point.y:\n",
    "        dy = 1\n",
    "    qnum = dx + dy*2\n",
    "    child = [q.sw, q.se, q.nw, q.ne][qnum]\n",
    "    if child is None and not is_find_only:\n",
    "        return q\n",
    "    return search_pqtree(child, p, is_find_only)\n",
    "```\n",
    "\n",
    "In the above function, we have a specific way of calculating the value of `qnum` so that we can get to the correct branch of node `q` by the line of `child = [q.sw, q.se, q.nw, q.ne][qnum]`. There is a question for this module about why the calculation of `qnum` will get us the correct answer."
   ]
  },
  {
   "cell_type": "markdown",
   "metadata": {},
   "source": [
    "## <font color=\"red\">Question 1</font>\n",
    "\n",
    "In the `search_pqtree` function, we have a line of code like this:\n",
    "\n",
    "`child = [q.sw, q.se, q.nw, q.ne][qnum]`\n",
    "\n",
    "where variable `qnum` is supposed to indicate which quadrant the search should go the next. Explain why the items in list must be listed in the order of `[q.sw, q.se, q.nw, q.ne]`. In order to correctly answer this question, please explain all the values `qnum` can be possibly assigned to.\n",
    "\n",
    "\n",
    "\n"
   ]
  },
  {
   "cell_type": "markdown",
   "metadata": {},
   "source": [
    "```python\n",
    "# TODO\n",
    "#\n",
    "#    Double click on this cell and write your answer below.\n",
    "```\n"
   ]
  },
  {
   "cell_type": "markdown",
   "metadata": {},
   "source": [
    "---\n",
    "\n",
    "The function that inserts point `p` into a point quadtree `q` is listed below:\n",
    "\n",
    "```python\n",
    "def insert_pqtree(q, p):\n",
    "    n = search_pqtree(q, p, False)\n",
    "    node = PQuadTreeNode(point=p)\n",
    "    if p.x < n.point.x and p.y < n.point.y:\n",
    "        n.sw = node\n",
    "    elif p.x < n.point.x and p.y >= n.point.y:\n",
    "        n.nw = node\n",
    "    elif p.x >= n.point.x and p.y < n.point.y:\n",
    "        n.se = node\n",
    "    else:\n",
    "        n.ne = node\n",
    "```\n",
    "\n",
    "Again, as we did in the binary tree and k-D tree, we use the root node as a proxy to the entire tree because we always start from the root to use the tree.\n",
    "\n",
    "And finally we can write a function that returns a point quadtree given a list of points in `data`:\n",
    "\n",
    "```python\n",
    "def pointquadtree(data):\n",
    "    root = PQuadTreeNode(point = data[0])\n",
    "    for p in data[1:]:\n",
    "        insert_pqtree(root, p)\n",
    "    return root\n",
    "```\n",
    "\n",
    "All the code listed above is stored at github in a file called [**pointquadtree1.py**](https://github.com/gisalgs/indexing/blob/master/pointquadtree1.py). Download it to the **indexing** folder and then we can test it using the following examples, or clone the "
   ]
  },
  {
   "cell_type": "code",
   "execution_count": null,
   "metadata": {},
   "outputs": [],
   "source": [
    "# This is only needed if the github repo hasn't been cloned \n",
    "!git clone https://github.com/gisalgs/indexing.git "
   ]
  },
  {
   "cell_type": "code",
   "execution_count": null,
   "metadata": {},
   "outputs": [],
   "source": [
    "from geom.point import *\n",
    "from indexing.pointquadtree1 import *\n",
    "\n",
    "data1 = [ (2,2), (0,5), (8,0), (9,8), (7,14), (13,12), (14,13) ]\n",
    "points = [Point(d[0], d[1]) for d in data1]\n",
    "q = pointquadtree(points)\n",
    "print([search_pqtree(q, p) for p in points])"
   ]
  },
  {
   "cell_type": "markdown",
   "metadata": {},
   "source": [
    "The function `pointquadtree` does not handle duplicated points in the input. The following is a test of this problem where an error will be thrown:"
   ]
  },
  {
   "cell_type": "code",
   "execution_count": null,
   "metadata": {},
   "outputs": [],
   "source": [
    "data2 = [ (2,2), (0,5), (8,0), (9,8), (7,14), (13,12), (14,13), (0,5) ]\n",
    "points2 = [Point(d[0], d[1]) for d in data2]\n",
    "q = pointquadtree(points2)\n",
    "print([search_pqtree(q, p) for p in points])"
   ]
  },
  {
   "cell_type": "markdown",
   "metadata": {},
   "source": [
    "## <font color=\"red\">Question 2</font> \n",
    "\n",
    "As we can see from the above, the `pointquadtree` function doesn't work when the input list contains duplicated points. What can we do to make sure the function can finish without being interrupted? One way to handle this is to just skip any points that have already been included in the tree. The code for functions `insert_pqtree` and `pointquadtree` is already copied below, along with the code for test. You can change either of the two functions to answer this question. "
   ]
  },
  {
   "cell_type": "code",
   "execution_count": null,
   "metadata": {},
   "outputs": [],
   "source": [
    "# TODO\n",
    "#\n",
    "#    Change either function below so this code cell will not yield an exception.\n",
    "\n",
    "def insert_pqtree(q, p):\n",
    "    n = search_pqtree(q, p, False)\n",
    "    node = PQuadTreeNode(point=p)\n",
    "    if p.x < n.point.x and p.y < n.point.y:\n",
    "        n.sw = node\n",
    "    elif p.x < n.point.x and p.y >= n.point.y:\n",
    "        n.nw = node\n",
    "    elif p.x >= n.point.x and p.y < n.point.y:\n",
    "        n.se = node\n",
    "    else:\n",
    "        n.ne = node\n",
    "\n",
    "def pointquadtree(data):\n",
    "    root = PQuadTreeNode(point = data[0])\n",
    "    for p in data[1:]:\n",
    "        insert_pqtree(root, p)\n",
    "    return root\n",
    "\n",
    "data2 = [ (2,2), (0,5), (8,0), (9,8), (7,14), (13,12), (14,13), (0,5) ]\n",
    "points2 = [Point(d[0], d[1]) for d in data2]\n",
    "q = pointquadtree(points2)   \n",
    "print([search_pqtree(q, p) for p in points])"
   ]
  },
  {
   "cell_type": "markdown",
   "metadata": {},
   "source": [
    "## Circular range querying point quadtrees\n",
    "\n",
    "The circular range query using the point quadtree follows the same logic as the k-D tree. The only difference here is that we have four subtrees to consider instead of two.\n",
    "\n",
    "```python\n",
    "def range_query(t, p, r):\n",
    "    def rquery(t, p, r, found):\n",
    "        if t is None:\n",
    "            return\n",
    "        if p.x-r > t.point.x :\n",
    "            rquery(t.ne, p, r, found)  # right points only\n",
    "            rquery(t.se, p, r, found)\n",
    "            return\n",
    "        if p.y-r > t.point.y: \n",
    "            rquery(t.ne, p, r, found)  # above points only\n",
    "            rquery(t.nw, p, r, found)\n",
    "            return\n",
    "        if p.x+r < t.point.x: \n",
    "            rquery(t.nw, p, r, found)  # left points only\n",
    "            rquery(t.sw, p, r, found)\n",
    "            return\n",
    "        if p.y+r < t.point.y: \n",
    "            rquery(t.se, p, r, found)  # below points only\n",
    "            rquery(t.sw, p, r, found)\n",
    "            return\n",
    "        if p.distance(t.point) <= r:\n",
    "            found.append(t.point)\n",
    "        rquery(t.nw, p, r, found)\n",
    "        rquery(t.ne, p, r, found)\n",
    "        rquery(t.se, p, r, found)\n",
    "        rquery(t.sw, p, r, found)\n",
    "        return\n",
    "    found = []\n",
    "    if t is not None:\n",
    "        rquery(t, p, r, found)\n",
    "    return found\n",
    "```\n",
    "\n",
    "It should be noted that the above circular range query code can be improved so that we can identify cases when only one quadrant will be checked instead of always two currently implemented.\n",
    "\n",
    "The code is available at github in a file called [**pointquadtree2.py**](https://github.com/gisalgs/indexing/blob/master/pointquadtree2.py). To install on a local computer, the module file must be put in the `indexing` folder after downloading. We use this function to test on the 7 data points as shown in the figure at the beginning of this tutorial.\n"
   ]
  },
  {
   "cell_type": "code",
   "execution_count": null,
   "metadata": {},
   "outputs": [],
   "source": [
    "from indexing.pointquadtree2 import *\n",
    "\n",
    "data1 = [ (2,2), (0,5), (8,0), (9,8), (7,14), (13,12), (14,13) ]\n",
    "points = [Point(d[0], d[1]) for d in data1]\n",
    "q = pointquadtree(points)\n",
    "p = Point(5, 5)\n",
    "r = 5\n",
    "found = range_query(q, p, r)\n",
    "print(found)"
   ]
  },
  {
   "cell_type": "markdown",
   "metadata": {},
   "source": [
    "Let's quickly draw the above example and see if the results make sense. We first define a few drawing functions that uses matplotlib."
   ]
  },
  {
   "cell_type": "code",
   "execution_count": null,
   "metadata": {},
   "outputs": [],
   "source": [
    "%matplotlib inline\n",
    "import matplotlib.pyplot as plt\n",
    "        \n",
    "def draw_points(pts, color, marker, size, alpha=0.7):\n",
    "    axis = plt.scatter([p.x for p in pts], [p.y for p in pts],\n",
    "                       marker=marker, color=color, s=size, alpha=alpha)\n",
    "    return axis\n",
    "    \n",
    "def draw_circle(x, y, r):\n",
    "    circle = plt.Circle((x, y), radius=r, color='r', fill=False)\n",
    "    plt.gca().add_patch(circle)\n",
    "    \n",
    "def draw_lines(linesxy, color):\n",
    "    frame = plt.gca()\n",
    "    l = plt.Line2D(linesxy[0], linesxy[1], color=color)\n",
    "    frame.add_line(l)"
   ]
  },
  {
   "cell_type": "code",
   "execution_count": null,
   "metadata": {},
   "outputs": [],
   "source": [
    "draw_points(points, 'blue', 'x', 30)\n",
    "draw_points(found, 'red', 'o', 30)\n",
    "draw_points([p], 'green', '+', 30)\n",
    "draw_circle(p.x, p.y, 5)\n",
    "plt.gca().set_aspect(1)\n",
    "plt.show()"
   ]
  },
  {
   "cell_type": "markdown",
   "metadata": {},
   "source": [
    "## <font color=\"red\">Question 3</font>\n",
    "\n",
    "A goal of any range query is to minimize the times when a point has to be tested if it is in the range or not. In circular range query, it is more critical to avoid unnecessary testing of a point in a circle by calculating the distance between the point and circle center, because calculating distance does take more time than other operations. In our first example of using function `range_query` on a point quadtree based on points `[(2,2), (0,5), (8,0), (9,8), (7,14), (13,12), (14,13)]` with a target point at `(5,5)` and a radius of 5, are there any points in the tree that are not tested by the line of `p.distance(t.point) <= r`? If so, what are those points and why they are not tested? To help answer the question, you can make some slight changes to the following code so the points being tested are printed out. "
   ]
  },
  {
   "cell_type": "code",
   "execution_count": null,
   "metadata": {},
   "outputs": [],
   "source": [
    "# TODO\n",
    "#\n",
    "#    (slightly) change the following code to answer the question.\n",
    "\n",
    "def range_query(t, p, r):\n",
    "    def rquery(t, p, r, found):\n",
    "        if t is None:\n",
    "            return\n",
    "        if p.x-r > t.point.x :\n",
    "            rquery(t.ne, p, r, found)  # right points only\n",
    "            rquery(t.se, p, r, found)\n",
    "            return\n",
    "        if p.y-r > t.point.y: \n",
    "            rquery(t.ne, p, r, found)  # above points only\n",
    "            rquery(t.nw, p, r, found)\n",
    "            return\n",
    "        if p.x+r < t.point.x: \n",
    "            rquery(t.nw, p, r, found)  # left points only\n",
    "            rquery(t.sw, p, r, found)\n",
    "            return\n",
    "        if p.y+r < t.point.y: \n",
    "            rquery(t.se, p, r, found)  # below points only\n",
    "            rquery(t.sw, p, r, found)\n",
    "            return\n",
    "        if p.distance(t.point) <= r:\n",
    "            found.append(t.point)\n",
    "        rquery(t.nw, p, r, found)\n",
    "        rquery(t.ne, p, r, found)\n",
    "        rquery(t.se, p, r, found)\n",
    "        rquery(t.sw, p, r, found)\n",
    "        return\n",
    "    found = []\n",
    "    if t is not None:\n",
    "        rquery(t, p, r, found)\n",
    "    return found\n",
    "\n",
    "data1 = [ (2,2), (0,5), (8,0), (9,8), (7,14), (13,12), (14,13) ]\n",
    "points = [Point(d[0], d[1]) for d in data1]\n",
    "q = pointquadtree(points)\n",
    "p = Point(5, 5)\n",
    "r = 5\n",
    "found = range_query(q, p, r)\n",
    "print('Found:', found)"
   ]
  },
  {
   "cell_type": "code",
   "execution_count": null,
   "metadata": {},
   "outputs": [],
   "source": [
    "# TODO:\n",
    "#   What are the points that are not tested and why they are not tested? Put yrou answer here.\n",
    "\n",
    "\n"
   ]
  },
  {
   "cell_type": "markdown",
   "metadata": {},
   "source": [
    "---\n",
    "\n",
    "Finally, we test a potentially tricky case: the input target point is closer to points in quads that do not contain the target point."
   ]
  },
  {
   "cell_type": "code",
   "execution_count": null,
   "metadata": {},
   "outputs": [],
   "source": [
    "points2 = [Point(p[0], p[1]) for p in [[5,5], [10,10], [4,4], [4.5,6], [6,4.5] ]]\n",
    "qt = pointquadtree(points2)\n",
    "p = Point(7, 7)\n",
    "r = 3\n",
    "found2 = range_query(qt, p, r)\n",
    "print(found2)\n",
    "print(sorted([p.distance(x) for x in points2]))"
   ]
  },
  {
   "cell_type": "markdown",
   "metadata": {},
   "source": [
    "As expected, the above test does not have the farthest point (10,10) included, even the quad that contains point (10, 10) also contains the target point (7, 7). Note the root is (5,5)."
   ]
  },
  {
   "cell_type": "code",
   "execution_count": null,
   "metadata": {},
   "outputs": [],
   "source": [
    "draw_points(points2, 'blue', 'x', 30)\n",
    "draw_points(found2, 'red', 'o', 30)\n",
    "draw_points([p], 'green', '+', 30)\n",
    "draw_lines([[5,5], [0,11]], 'lightgrey')\n",
    "draw_lines([[0,11], [5,5]], 'lightgrey')\n",
    "draw_circle(p.x, p.y, r)\n",
    "plt.axis('scaled')\n",
    "ax = plt.gca()\n",
    "ax.set_xlim([0, 11])\n",
    "ax.set_ylim([0, 11])\n",
    "ax.set_aspect(1)\n",
    "plt.show()"
   ]
  }
 ],
 "metadata": {
  "kernelspec": {
   "display_name": "Python 3",
   "language": "python",
   "name": "python3"
  },
  "language_info": {
   "codemirror_mode": {
    "name": "ipython",
    "version": 3
   },
   "file_extension": ".py",
   "mimetype": "text/x-python",
   "name": "python",
   "nbconvert_exporter": "python",
   "pygments_lexer": "ipython3",
   "version": "3.8.5"
  }
 },
 "nbformat": 4,
 "nbformat_minor": 1
}
