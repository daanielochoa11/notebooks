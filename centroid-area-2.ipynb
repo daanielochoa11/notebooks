{
 "cells": [
  {
   "cell_type": "markdown",
   "metadata": {},
   "source": [
    "<a href=\"https://colab.research.google.com/github/gisalgs/notebooks/centroid-area-2.ipynb\">\n",
    "  <img src=\"https://colab.research.google.com/assets/colab-badge.svg\" alt=\"Open In Colab\"/>\n",
    "</a>\n",
    "\n",
    "# Polygon Centroid and Area\n",
    "\n",
    "A polygon is an areal object: it has an area. But sometimes we tend to think of a polygon as a point. For example, while there are many ways to answer the questions of \"where is Columbus?\" one way to answer it is to say it is at 83 west and 40 north, which is liberally a point. In games, collisions between game objects can be determined using their center. People might also be interested in where is the geographic center of the conterminous U.S. Here, we call the center of a polygon its **centroid**.\n",
    "\n",
    "The purpose of this tutorial is to develop a reasonable way to estimate polygon centers. As we will see here, when we compute the center of a polygon, we also compute the area at the same time, not because of convenience (which is the case) but also necessity. \n",
    "\n",
    "This tutorial will be run on-the-fly in Google Colab. Because of that, it is necessary to load our geometry Python modules (such as point.py). The following line of code clones exactly the entire repository into the running environment of his notebook. Please note this is only needed to run in colab. To run the code in the tutorial in our own local computer using a Python interactive mode, we will use what we did before (i.e., downloading the necessary .py files from the github repo, and putting them in the right folder). There is no need to run this in local Python environment. This line should not be included in a Python program either."
   ]
  },
  {
   "cell_type": "code",
   "execution_count": 1,
   "metadata": {},
   "outputs": [
    {
     "name": "stdout",
     "output_type": "stream",
     "text": [
      "fatal: destination path 'geom' already exists and is not an empty directory.\r\n"
     ]
    }
   ],
   "source": [
    "!git clone https://github.com/gisalgs/geom.git "
   ]
  },
  {
   "cell_type": "markdown",
   "metadata": {},
   "source": [
    "The above line may show an error that the path exists already. This happens when it is run multiple times. No need to alert. If the code in this tutorial is run in a local Python interactive mode, we can use the following before we import:\n",
    "\n",
    "```python\n",
    "import sys\n",
    "sys.path.append('/home/xiao/lib/gisalgs')\n",
    "```\n",
    "\n",
    "Once the github repo is cloned, it is also loaded and ready to use."
   ]
  },
  {
   "cell_type": "code",
   "execution_count": 2,
   "metadata": {},
   "outputs": [],
   "source": [
    "from geom.point import *"
   ]
  },
  {
   "cell_type": "markdown",
   "metadata": {},
   "source": [
    "We also load necessary matplotlib module for some drawing down the road:"
   ]
  },
  {
   "cell_type": "code",
   "execution_count": 3,
   "metadata": {},
   "outputs": [],
   "source": [
    "%matplotlib inline\n",
    "import matplotlib.pyplot as plt"
   ]
  },
  {
   "cell_type": "markdown",
   "metadata": {},
   "source": [
    "We first take a look at a hypothetical polygon and plot its center that is calculated using the average X and Y coordinates. To get the tutorial going, we need to complete the two lines of code under the TODO comments."
   ]
  },
  {
   "cell_type": "code",
   "execution_count": 4,
   "metadata": {},
   "outputs": [
    {
     "data": {
      "image/png": "[encoded data removed]",
      "text/plain": [
       "<Figure size 432x288 with 1 Axes>"
      ]
     },
     "metadata": {
      "needs_background": "light"
     },
     "output_type": "display_data"
    }
   ],
   "source": [
    "points = [ [1,1], [2,1], [4,3], [8,3], [8,3.5], [4,3.5], [1,4.5], [1,1] ]\n",
    "\n",
    "polygon = [ Point(p[0], p[1]) for p in points ]\n",
    "\n",
    "# TODO: compute the mean of the X coordinates in polygon as x\n",
    "#       make sure the point at (1, 1) is only used once\n",
    "x = sum([p.x for p in polygon[:-1]]) / (len(polygon)-1)\n",
    "\n",
    "# TODO: compute the mean of the Y coordinates in polygon as y\n",
    "#       make sure the point at (1, 1) is only used once\n",
    "y = sum([p.y for p in polygon[:-1]]) / (len(polygon)-1)\n",
    "\n",
    "d = Point(x, y)\n",
    "\n",
    "_, ax = plt.subplots()\n",
    "\n",
    "line1 = [ [p.x, p.y] for p in polygon ]\n",
    "l1 = plt.Polygon(line1, closed=True, fill=True, facecolor='grey', edgecolor='blue', alpha=0.5)\n",
    "ax.add_patch(l1)\n",
    "\n",
    "ax.scatter([p.x for p in polygon], [p.y for p in polygon], color='grey', marker='o', alpha=0.8)\n",
    "\n",
    "ax.plot(d.x, d.y, marker='o', color='red', alpha=.9)\n",
    "ax.text(d.x+0.1, d.y-0.2, 'mean')\n",
    "\n",
    "ax.set_aspect(1)\n",
    "\n",
    "plt.show()"
   ]
  },
  {
   "cell_type": "markdown",
   "metadata": {},
   "source": [
    "If the two TODO lines of code are correctly entered, we should see the red point being in a \"wrong\" place -- it is outside of the polygon. There clearly is a problem of making the center using the average of the coordinates, as the values of the X and Y coordinates control where the point is. In our case above, the two points at the bottom pull the mean point down and outside the shape. If we add more points to the line at the bottom, the mean points will be pulled further down, which the shape remains the same. We would prefer a more reasonable way so that the coordinates do not have so expressive control over where the center should be. Instead, we want our center to be close toward the gravity or mass center of the shape. In the following code cell, we can plot a preferred point that is within the polygon."
   ]
  },
  {
   "cell_type": "code",
   "execution_count": 5,
   "metadata": {
    "scrolled": false
   },
   "outputs": [
    {
     "data": {
      "image/png": "[encoded data removed]",
      "text/plain": [
       "<Figure size 432x288 with 1 Axes>"
      ]
     },
     "metadata": {
      "needs_background": "light"
     },
     "output_type": "display_data"
    }
   ],
   "source": [
    "_, ax = plt.subplots()\n",
    "\n",
    "line1 = [ [p.x, p.y] for p in polygon ]\n",
    "l1 = plt.Polygon(line1, closed=True, fill=True, facecolor='grey', edgecolor='blue', alpha=0.5)\n",
    "ax.add_patch(l1)\n",
    "\n",
    "# TODO: what would be the coordinates for a centroid that is more preferred?\n",
    "#       use any reasonable numbers below\n",
    "preferred = Point(3, 3)\n",
    "\n",
    "ax.plot(preferred.x, preferred.y, color='blue', marker='o', alpha=.9)\n",
    "plt.text(preferred.x-0.1, preferred.y+0.1, 'preferred', ha='right')\n",
    "\n",
    "ax.set_aspect(1)\n",
    "plt.show()"
   ]
  },
  {
   "cell_type": "markdown",
   "metadata": {},
   "source": [
    "## How to compute gravity center of a shape?\n",
    "\n",
    "We want our centroid to be within the polygon and close to where the majority of the mass is. This is what we refer to as gravity center. We assume the mass is evenly distributed. If we cut the polygons in parts and the large parts will have a big draw of the center (pulling the center close to them). \n",
    "\n",
    "We will start by looking at an example where the polygon shape is [convex](https://en.wikipedia.org/wiki/Convex_polygon)."
   ]
  },
  {
   "cell_type": "code",
   "execution_count": 6,
   "metadata": {},
   "outputs": [],
   "source": [
    "convex = [ [5,1], [8,2], [10,6], [6,10], [2,9], [0,6], [1,2], [5,1] ]\n",
    "convex = [Point(p[0], p[1]) for p in convex]"
   ]
  },
  {
   "cell_type": "code",
   "execution_count": 7,
   "metadata": {},
   "outputs": [
    {
     "data": {
      "image/png": "[encoded data removed]",
      "text/plain": [
       "<Figure size 432x288 with 1 Axes>"
      ]
     },
     "metadata": {
      "needs_background": "light"
     },
     "output_type": "display_data"
    }
   ],
   "source": [
    "polygon = convex\n",
    "\n",
    "_, ax = plt.subplots()\n",
    "\n",
    "line1 = [ [p.x, p.y] for p in polygon ]\n",
    "l1 = plt.Polygon(line1, closed=True, fill=True, facecolor='grey', edgecolor='blue', alpha=0.5)\n",
    "ax.add_patch(l1)\n",
    "\n",
    "ax.scatter([p.x for p in polygon], [p.y for p in polygon], color='grey', marker='o', alpha=0.8)\n",
    "\n",
    "plt.text(polygon[0].x+0.1, polygon[0].y-0.6, 'p1')\n",
    "\n",
    "ax.set_aspect(1)\n",
    "\n",
    "ax.set_ylim([-1, 11])\n",
    "ax.set_xlim([-1, 11])\n",
    "\n",
    "ax.grid()\n",
    "plt.show()"
   ]
  },
  {
   "cell_type": "markdown",
   "metadata": {},
   "source": [
    "Now we will partition the polygon into a number of parts. To do so, we make sure the parts completely cover the original polygon and the parts do not overlap with each other. Note while the coverage and overlap requirements are not really necessary, they make things simple. More practically, it is doable. Later we will look at another strategy that does not have these requirements.\n",
    "\n",
    "One way to get the parts is what we call triangulation: we create a sequence of triangles that completely covers the polygon. Here we make sure all the triangle share the same point. Any point will work, but we will use the first point (p1) in the list for convenience. The following code draws the lines of these triangles. If the polygon has $n$ vertices, we will have $n-2$ triangles."
   ]
  },
  {
   "cell_type": "code",
   "execution_count": 8,
   "metadata": {},
   "outputs": [
    {
     "data": {
      "image/png": "[encoded data removed]",
      "text/plain": [
       "<Figure size 432x288 with 1 Axes>"
      ]
     },
     "metadata": {
      "needs_background": "light"
     },
     "output_type": "display_data"
    }
   ],
   "source": [
    "polygon = convex\n",
    "n = len(polygon)\n",
    "\n",
    "_, ax = plt.subplots()\n",
    "\n",
    "line1 = [ [p.x, p.y] for p in polygon ]\n",
    "l1 = plt.Polygon(line1, closed=True, fill=True, facecolor='grey', edgecolor='blue', alpha=0.5)\n",
    "ax.add_patch(l1)\n",
    "\n",
    "ax.scatter([p.x for p in polygon], [p.y for p in polygon], color='grey', marker='o', alpha=0.8)\n",
    "\n",
    "plt.text(polygon[0].x+0.1, polygon[0].y-0.6, 'p1')\n",
    "\n",
    "p0 = polygon[0]\n",
    "for p in polygon[1:-1]:\n",
    "    ax.plot([p0.x, p.x], [p0.y, p.y])\n",
    "\n",
    "ax.set_aspect(1)\n",
    "\n",
    "ax.set_ylim([-1, 11])\n",
    "ax.set_xlim([-1, 11])\n",
    "\n",
    "\n",
    "\n",
    "ax.grid()\n",
    "plt.show()"
   ]
  },
  {
   "cell_type": "markdown",
   "metadata": {},
   "source": [
    "## Computing triangle area\n",
    "\n",
    "If we know the three vertices of a triangle as $(x_1, y_1)$, $(x_2, y_2)$, and $(x_3, y_3)$, we can compute the area of the triangle using the [determinant formula](https://people.richland.edu/james/lecture/m116/matrices/area.html):\n",
    "\n",
    "$\n",
    "\\frac{1}{2} \\begin{vmatrix} \n",
    "x_1 & y_1 & 1 \\\\ \n",
    "x_2 & y_2 & 1 \\\\ \n",
    "x_3 & y_3 & 1  \\notag\n",
    "\\end{vmatrix} ,\n",
    "$\n",
    "\n",
    "which can be written as\n",
    "\n",
    "$\n",
    "\\frac{1}{2} [x_1 (y_2-y_3) - y_1 ( x_2-x_3) + (x_2 y_3 -y_2 x_3)] .\n",
    "$\n",
    "\n",
    "This will give us a signed number: it is positive if the three points are in a counter clockwise order, and negative clockwise. Have a singed value is a great feature and we will see how it can be useful later. \n",
    "\n",
    "We translate the formula into a function as follows:"
   ]
  },
  {
   "cell_type": "code",
   "execution_count": 9,
   "metadata": {},
   "outputs": [
    {
     "data": {
      "text/plain": [
       "1.5"
      ]
     },
     "execution_count": 9,
     "metadata": {},
     "output_type": "execute_result"
    }
   ],
   "source": [
    "def triangle_area(p1, p2, p3):\n",
    "    a = p1.x * (p2.y-p3.y) - p1.y * ( p2.x-p3.x) + (p2.x*p3.y - p2.y*p3.x)\n",
    "    a /= 2\n",
    "    return a\n",
    "\n",
    "# testing\n",
    "triangle_area(Point(1, 0), Point(2, 0), Point(0, 3))"
   ]
  },
  {
   "cell_type": "markdown",
   "metadata": {},
   "source": [
    "The first triangle in the lower-right of the above figure can be computed below:"
   ]
  },
  {
   "cell_type": "code",
   "execution_count": 10,
   "metadata": {},
   "outputs": [
    {
     "data": {
      "text/plain": [
       "5.0"
      ]
     },
     "execution_count": 10,
     "metadata": {},
     "output_type": "execute_result"
    }
   ],
   "source": [
    "p1 = polygon[0]\n",
    "p2 = polygon[1]\n",
    "p3 = polygon[2]\n",
    "\n",
    "area = triangle_area(p1, p2, p3)\n",
    "area"
   ]
  },
  {
   "cell_type": "markdown",
   "metadata": {},
   "source": [
    "We can use a `for` loop to compute the areas of all the triangles, and in the meantime get the total area of the polygon:"
   ]
  },
  {
   "cell_type": "code",
   "execution_count": 11,
   "metadata": {},
   "outputs": [
    {
     "name": "stdout",
     "output_type": "stream",
     "text": [
      "62.5\n"
     ]
    }
   ],
   "source": [
    "polygon = convex\n",
    "p1 = polygon[0]\n",
    "area = 0\n",
    "for i in range(1, len(polygon)-2):\n",
    "    p2 = polygon[i]\n",
    "    p3 = polygon[i+1]\n",
    "    a = triangle_area(p1, p2, p3)\n",
    "    area += a\n",
    "\n",
    "print(area)"
   ]
  },
  {
   "cell_type": "markdown",
   "metadata": {},
   "source": [
    "## Area-weighted centroid\n",
    "\n",
    "For a triangle with three vertices $(x_1, y_1)$, $(x_2, y_2)$, and $(x_3, y_3)$, its center can be simply calculated as\n",
    "\n",
    "$x = \\frac{x_1 + x_2 + x_3}{3}$, $y = \\frac{y_1 + y_2 + y_3}{3}$\n",
    "\n",
    "Each of these coordinates is then weighted using the area of the triangle. We can sum all these weighted coordinates for all triangles and then divide the sum by the total area. This will give us the gravity center, or centroid of the polygon.\n",
    "\n",
    "The following code does the weighting:"
   ]
  },
  {
   "cell_type": "code",
   "execution_count": 12,
   "metadata": {},
   "outputs": [
    {
     "name": "stdout",
     "output_type": "stream",
     "text": [
      "62.5 (4.8, 5.3)\n"
     ]
    }
   ],
   "source": [
    "polygon = convex\n",
    "area = 0\n",
    "xmean = 0\n",
    "ymean = 0\n",
    "centers = []\n",
    "\n",
    "p1 = polygon[0]\n",
    "for i in range(1, len(polygon)-2):\n",
    "    p2 = polygon[i]\n",
    "    p3 = polygon[i+1]\n",
    "    a = triangle_area(p1, p2, p3) # get triangle area\n",
    "    x = (p1.x + p2.x + p3.x) / 3  # \n",
    "    y = (p1.y + p2.y + p3.y) / 3\n",
    "    centers.append(Point(x, y))\n",
    "    xmean += a*x\n",
    "    ymean += a*y\n",
    "    \n",
    "    area += a\n",
    "\n",
    "xmean /= area\n",
    "ymean /= area\n",
    "\n",
    "final_centroid = Point(xmean, ymean)\n",
    "print(area, final_centroid)"
   ]
  },
  {
   "cell_type": "markdown",
   "metadata": {},
   "source": [
    "Now we can draw the final centroid along with the centroids of the triangles."
   ]
  },
  {
   "cell_type": "code",
   "execution_count": 13,
   "metadata": {},
   "outputs": [
    {
     "data": {
      "image/png": "[encoded data removed]",
      "text/plain": [
       "<Figure size 432x288 with 1 Axes>"
      ]
     },
     "metadata": {
      "needs_background": "light"
     },
     "output_type": "display_data"
    }
   ],
   "source": [
    "polygon = convex\n",
    "n = len(polygon)\n",
    "\n",
    "_, ax = plt.subplots()\n",
    "\n",
    "line1 = [ [p.x, p.y] for p in polygon ]\n",
    "l1 = plt.Polygon(line1, closed=True, fill=True, facecolor='grey', edgecolor='blue', alpha=0.5)\n",
    "ax.add_patch(l1)\n",
    "\n",
    "p0 = polygon[0]\n",
    "for p in polygon[1:-1]:\n",
    "    ax.plot([p0.x, p.x], [p0.y, p.y])\n",
    "\n",
    "ax.scatter([p.x for p in polygon], [p.y for p in polygon], color='grey', marker='o', alpha=0.8)\n",
    "ax.scatter([p.x for p in centers], [p.y for p in centers], color='blue', marker='o', alpha=0.5)\n",
    "ax.plot(final_centroid.x, final_centroid.y, color='k', marker='x', alpha=1)\n",
    "\n",
    "ax.set_aspect(1)\n",
    "\n",
    "ax.set_ylim([-1, 11])\n",
    "ax.set_xlim([-1, 11])\n",
    "\n",
    "ax.grid()\n",
    "plt.show()\n"
   ]
  },
  {
   "cell_type": "markdown",
   "metadata": {},
   "source": [
    "## Another triangulation\n",
    "\n",
    "The above approach works fine. But there is a little bit too much computation in calculating the triangle area (multiplications take time). We can rethink the process and this time we look at triangles formed by the two consecutive points on the polygon and the origin. "
   ]
  },
  {
   "cell_type": "code",
   "execution_count": 14,
   "metadata": {},
   "outputs": [
    {
     "data": {
      "image/png": "[encoded data removed]",
      "text/plain": [
       "<Figure size 432x288 with 1 Axes>"
      ]
     },
     "metadata": {
      "needs_background": "light"
     },
     "output_type": "display_data"
    }
   ],
   "source": [
    "polygon = convex\n",
    "n = len(polygon)\n",
    "\n",
    "_, ax = plt.subplots()\n",
    "\n",
    "line1 = [ [p.x, p.y] for p in polygon ]\n",
    "l1 = plt.Polygon(line1, closed=True, fill=True, facecolor='grey', edgecolor='blue', alpha=0.5)\n",
    "ax.add_patch(l1)\n",
    "\n",
    "ax.scatter([p.x for p in polygon], [p.y for p in polygon], color='grey', marker='o', alpha=0.8)\n",
    "\n",
    "for p in polygon[:-1]:\n",
    "    ax.plot([0, p.x], [0, p.y])\n",
    "\n",
    "ax.set_aspect(1)\n",
    "\n",
    "ax.set_ylim([-1, 11])\n",
    "ax.set_xlim([-1, 11])\n",
    "\n",
    "ax.grid()\n",
    "plt.show()"
   ]
  },
  {
   "cell_type": "markdown",
   "metadata": {},
   "source": [
    "Some of the triangles will have a positive area and others negative. More specifically, because the points are counter clockwise ordered, the area formed by lines that are furtherest from the original as positive and then those those closest to the origin as negative. By summing them up, the areas that are not included in the polygon will be canceled out.\n",
    "\n",
    "In the following figure, draw three sub-plots to show how this works. In the first plot (left), all the triangles have positive areas, and the ones in the middle plot have negative areas. By summing all the areas up, we are able to get the correct area of the polygon (right)."
   ]
  },
  {
   "cell_type": "code",
   "execution_count": 15,
   "metadata": {},
   "outputs": [
    {
     "data": {
      "image/png": "[encoded data removed]",
      "text/plain": [
       "<Figure size 432x288 with 3 Axes>"
      ]
     },
     "metadata": {
      "needs_background": "light"
     },
     "output_type": "display_data"
    }
   ],
   "source": [
    "polygon = convex\n",
    "n = len(polygon)\n",
    "\n",
    "_, ax = plt.subplots(1, 3) # create 3 plots, ax is a list with three axes\n",
    "\n",
    "# draw the points on all three\n",
    "for a in ax:\n",
    "    a.scatter([p.x for p in polygon], [p.y for p in polygon], color='grey', marker='o', alpha=0.8)\n",
    "\n",
    "for i in range(5):  # this is fixed for this example\n",
    "    p1 = polygon[i]\n",
    "    p2 = polygon[i+1]\n",
    "    line2 = [ [0,0], [p1.x, p1.y], [p2.x, p2.y]]\n",
    "    l2 = plt.Polygon(line2, closed=True, fill=True, facecolor='green', edgecolor='black', alpha=0.5)\n",
    "    ax[0].add_patch(l2)\n",
    "    l2 = plt.Polygon(line2, closed=True, fill=True, facecolor='green', edgecolor='black', alpha=0.5)\n",
    "    ax[2].add_patch(l2)\n",
    "\n",
    "for i in range(5, len(polygon)-1):  # this is fixed for this example\n",
    "    p1 = polygon[i]\n",
    "    p2 = polygon[i+1]\n",
    "    line2 = [ [0,0], [p1.x, p1.y], [p2.x, p2.y]]\n",
    "    l2 = plt.Polygon(line2, closed=True, fill=True, facecolor='pink', edgecolor='grey', alpha=0.5)\n",
    "    ax[1].add_patch(l2)\n",
    "    l2 = plt.Polygon(line2, closed=True, fill=True, facecolor='w', edgecolor='grey', alpha=0.6)\n",
    "    ax[2].add_patch(l2)\n",
    "\n",
    "for a in ax:\n",
    "    a.set_aspect(1)\n",
    "    a.set_ylim([-1, 11])\n",
    "    a.set_xlim([-1, 11])\n",
    "\n",
    "plt.show()"
   ]
  },
  {
   "cell_type": "markdown",
   "metadata": {},
   "source": [
    "## Triangle areas (a simpler formula)\n",
    "\n",
    "In the case when the origin is involved, the computation gets a lot simpler: we just need two points to define the triangle. Let's say the two points are $x_1$ and $x_2$. The area can be computed as:\n",
    "\n",
    "$\n",
    "\\frac{1}{2} \\begin{vmatrix} \n",
    "x_1 & y_1  \\\\ \n",
    "x_2 & y_2 \\notag\n",
    "\\end{vmatrix} ,\n",
    "$\n",
    "\n",
    "which can be written as\n",
    "\n",
    "$\n",
    "\\frac{1}{2} (x_1 y_2 - x_2 y_1) .\n",
    "$\n",
    "\n",
    "This will give us a signed number: it is positive if the three points are in a counter clockwise order, and negative clockwise. We translate the formula into a function as follows:"
   ]
  },
  {
   "cell_type": "code",
   "execution_count": 16,
   "metadata": {},
   "outputs": [
    {
     "data": {
      "text/plain": [
       "0.5"
      ]
     },
     "execution_count": 16,
     "metadata": {},
     "output_type": "execute_result"
    }
   ],
   "source": [
    "def triangle_area0(p1, p2):\n",
    "    a = p1.x * p2.y - p2.x * p1.y\n",
    "    a /= 2\n",
    "    return a\n",
    "\n",
    "# testing (this is a half of a unit square)\n",
    "triangle_area0(Point(1, 0), Point(1, 1))"
   ]
  },
  {
   "cell_type": "markdown",
   "metadata": {},
   "source": [
    "We can test one of the triangle with a positive area here:"
   ]
  },
  {
   "cell_type": "code",
   "execution_count": 17,
   "metadata": {
    "scrolled": true
   },
   "outputs": [
    {
     "data": {
      "text/plain": [
       "32.0"
      ]
     },
     "execution_count": 17,
     "metadata": {},
     "output_type": "execute_result"
    }
   ],
   "source": [
    "p1 = polygon[2]\n",
    "p2 = polygon[3]\n",
    "triangle_area0(p1, p2)"
   ]
  },
  {
   "cell_type": "markdown",
   "metadata": {},
   "source": [
    "Similarly, we can test a triangle with a negative area too:"
   ]
  },
  {
   "cell_type": "code",
   "execution_count": 18,
   "metadata": {},
   "outputs": [
    {
     "data": {
      "text/plain": [
       "-3.0"
      ]
     },
     "execution_count": 18,
     "metadata": {},
     "output_type": "execute_result"
    }
   ],
   "source": [
    "# TODO: find a from the above plotting \n",
    "#       replace None with actual point on the polygon\n",
    "p1 = polygon[5]\n",
    "p2 = polygon[6]\n",
    "triangle_area0(p1, p2)"
   ]
  },
  {
   "cell_type": "markdown",
   "metadata": {},
   "source": [
    "\n",
    "With this spirit, we work on a simpler algorithm:"
   ]
  },
  {
   "cell_type": "code",
   "execution_count": 19,
   "metadata": {},
   "outputs": [
    {
     "name": "stdout",
     "output_type": "stream",
     "text": [
      "62.5 (4.8, 5.3)\n"
     ]
    }
   ],
   "source": [
    "area = 0\n",
    "xmean = 0\n",
    "ymean = 0\n",
    "centers = []\n",
    "\n",
    "for i in range(len(polygon)-1):\n",
    "    p1 = polygon[i]\n",
    "    p2 = polygon[i+1]\n",
    "    a = triangle_area0(p1, p2)\n",
    "    area += a\n",
    "    x = (p1.x + p2.x) / 3\n",
    "    y = (p1.y + p2.y) / 3\n",
    "    xmean += a * x\n",
    "    ymean += a * y\n",
    "    centers.append(Point(x, y))\n",
    "\n",
    "xmean /= area\n",
    "ymean /= area\n",
    "    \n",
    "final_centroid = Point(xmean, ymean)\n",
    "print(area, final_centroid)"
   ]
  },
  {
   "cell_type": "code",
   "execution_count": 20,
   "metadata": {},
   "outputs": [
    {
     "data": {
      "image/png": "[encoded data removed]",
      "text/plain": [
       "<Figure size 432x288 with 1 Axes>"
      ]
     },
     "metadata": {
      "needs_background": "light"
     },
     "output_type": "display_data"
    }
   ],
   "source": [
    "polygon = convex\n",
    "n = len(polygon)\n",
    "\n",
    "_, ax = plt.subplots()\n",
    "\n",
    "line1 = [ [p.x, p.y] for p in polygon ]\n",
    "l1 = plt.Polygon(line1, closed=True, fill=True, facecolor='grey', edgecolor='blue', alpha=0.5)\n",
    "ax.add_patch(l1)\n",
    "\n",
    "ax.scatter([p.x for p in centers], [p.y for p in centers], color='blue', marker='o', alpha=0.5)\n",
    "ax.plot(final_centroid.x, final_centroid.y, color='k', marker='x', alpha=1)\n",
    "\n",
    "for p in polygon[:-1]:\n",
    "    ax.plot([0, p.x], [0, p.y])\n",
    "\n",
    "ax.set_aspect(1)\n",
    "\n",
    "ax.set_ylim([-1, 11])\n",
    "ax.set_xlim([-1, 11])\n",
    "\n",
    "ax.grid()\n",
    "plt.show()"
   ]
  },
  {
   "cell_type": "markdown",
   "metadata": {},
   "source": [
    "So the above code yields exactly the same results we had before. This is the commonly used algorithm and we have the code in our github repository at [here](https://github.com/gisalgs/geom/blob/master/centroid.py). It can be downloaded and installed as we did for the other geometry files.\n",
    "\n",
    "To use the centroid module, we can import it like this:"
   ]
  },
  {
   "cell_type": "code",
   "execution_count": 21,
   "metadata": {},
   "outputs": [],
   "source": [
    "from geom.centroid import *"
   ]
  },
  {
   "cell_type": "markdown",
   "metadata": {},
   "source": [
    "The centroid function is ready to use. It returns two values: the area and the centroid as a Point object. The area returned is an absolute value so it is also non-negative."
   ]
  },
  {
   "cell_type": "code",
   "execution_count": 22,
   "metadata": {},
   "outputs": [
    {
     "name": "stdout",
     "output_type": "stream",
     "text": [
      "The area is 62.5 and the centroid is at (4.8, 5.3).\n"
     ]
    }
   ],
   "source": [
    "area, center = centroid(polygon)\n",
    "print('The area is {} and the centroid is at {}.'.format(area, center))"
   ]
  },
  {
   "cell_type": "markdown",
   "metadata": {},
   "source": [
    "The function does require the polygon is closed, meaning the last point is as same as the first one. If the polygon is not closed, the function will raise an exception (error). We can use the try statement to make sure the error is handled:"
   ]
  },
  {
   "cell_type": "code",
   "execution_count": 23,
   "metadata": {},
   "outputs": [
    {
     "name": "stdout",
     "output_type": "stream",
     "text": [
      "Polygon not closed\n"
     ]
    }
   ],
   "source": [
    "try:\n",
    "    result = centroid(points[:-2])\n",
    "except Exception as err:\n",
    "    print(err)\n",
    "else:\n",
    "    print(result)"
   ]
  },
  {
   "cell_type": "markdown",
   "metadata": {},
   "source": [
    "So will the centroid algorithm work for our very first example? The polygon we have here is **concave**, not convex. The following test should tell."
   ]
  },
  {
   "cell_type": "code",
   "execution_count": 24,
   "metadata": {},
   "outputs": [
    {
     "data": {
      "image/png": "[encoded data removed]",
      "text/plain": [
       "<Figure size 432x288 with 1 Axes>"
      ]
     },
     "metadata": {
      "needs_background": "light"
     },
     "output_type": "display_data"
    }
   ],
   "source": [
    "points = [ [1,1], [2,1], [4,3], [8,3], [8,3.5], [4,3.5], [1,4.5], [1,1] ]\n",
    "\n",
    "polygon = [ Point(p[0], p[1]) for p in points ]\n",
    "\n",
    "# TODO: compute the mean of the X coordinates in polygon as x\n",
    "#       make sure the point at (1, 1) is only used once\n",
    "x = sum([p.x for p in polygon[:-1]]) / (len(polygon)-1)\n",
    "\n",
    "# TODO: compute the mean of the Y coordinates in polygon as y\n",
    "#       make sure the point at (1, 1) is only used once\n",
    "y = sum([p.y for p in polygon[:-1]]) / (len(polygon)-1)\n",
    "\n",
    "_, ax = plt.subplots()\n",
    "\n",
    "line1 = [ [p.x, p.y] for p in polygon ]\n",
    "l1 = plt.Polygon(line1, closed=True, fill=True, facecolor='grey', edgecolor='blue', alpha=0.5)\n",
    "ax.add_patch(l1)\n",
    "\n",
    "ax.scatter([p.x for p in polygon], [p.y for p in polygon], color='grey', marker='o', alpha=0.8)\n",
    "\n",
    "# TODO: \n",
    "#       calculate the centroid of the polygon\n",
    "#       plot it here\n",
    "#       draw a label next to the centroid\n",
    "#\n",
    "a, c = centroid(polygon)\n",
    "plt.scatter([c.x], [c.y], color='blue', alpha=.9)\n",
    "plt.text(c.x-0.1, c.y+0.1, 'centroid', ha='right')\n",
    "\n",
    "d = Point(x, y)\n",
    "plt.scatter([d.x], [d.y], color='red', alpha=.9)\n",
    "plt.text(d.x+0.1, d.y-0.2, 'mean')\n",
    "\n",
    "ax.set_aspect(1)\n",
    "plt.show()\n"
   ]
  },
  {
   "cell_type": "markdown",
   "metadata": {},
   "source": [
    "But can there be exceptions, meaning the gravity centroid will fall out of the polygon? Yes, the answer is there are. This is the last exercise for this tutorial. Design a polygon so that its gravity centroid is outside the polygon's boundary. Finish the TODO parts below and draw the polygon and its centroid to illustrate it."
   ]
  },
  {
   "cell_type": "code",
   "execution_count": 25,
   "metadata": {},
   "outputs": [
    {
     "data": {
      "image/png": "[encoded data removed]",
      "text/plain": [
       "<Figure size 432x288 with 1 Axes>"
      ]
     },
     "metadata": {
      "needs_background": "light"
     },
     "output_type": "display_data"
    }
   ],
   "source": [
    "# TODO: design a polygon so that its centroid is outside the polygon\n",
    "#   \n",
    "points = [ [1,1], [2,1], [2,4], [5,4], [5,1], [6,1], [6,5], [1,5], [1,1] ]\n",
    "\n",
    "polygon = [ Point(p[0], p[1]) for p in points ]\n",
    "\n",
    "_, ax = plt.subplots()\n",
    "\n",
    "line1 = [ [p.x, p.y] for p in polygon ]\n",
    "l1 = plt.Polygon(line1, closed=True, fill=True, facecolor='grey', edgecolor='blue', alpha=0.5)\n",
    "ax.add_patch(l1)\n",
    "\n",
    "ax.scatter([p.x for p in polygon], [p.y for p in polygon], color='grey', marker='o', alpha=0.8)\n",
    "\n",
    "# TODO: calculate the centroid of the polygon and plot it here\n",
    "#\n",
    "a, c = centroid(polygon)\n",
    "plt.scatter([c.x], [c.y], color='blue', alpha=.9)\n",
    "plt.text(c.x-0.1, c.y+0.1, 'centroid', ha='right')\n",
    "\n",
    "ax.set_aspect(1)\n",
    "plt.show()\n"
   ]
  }
 ],
 "metadata": {
  "kernelspec": {
   "display_name": "Python 3",
   "language": "python",
   "name": "python3"
  },
  "language_info": {
   "codemirror_mode": {
    "name": "ipython",
    "version": 3
   },
   "file_extension": ".py",
   "mimetype": "text/x-python",
   "name": "python",
   "nbconvert_exporter": "python",
   "pygments_lexer": "ipython3",
   "version": "3.8.5"
  }
 },
 "nbformat": 4,
 "nbformat_minor": 4
}
