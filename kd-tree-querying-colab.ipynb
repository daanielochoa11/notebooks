{
 "cells": [
  {
   "cell_type": "markdown",
   "metadata": {},
   "source": [
    "<a href=\"https://colab.research.google.com/github/gisalgs/notebooks/blob/main/kd-tree-querying-colab.ipynb\">\n",
    "  <img src=\"https://colab.research.google.com/assets/colab-badge.svg\" alt=\"Open In Colab\"/>\n",
    "</a>\n",
    "\n",
    "# Range Query Using k-D Trees\n",
    "\n",
    "\n",
    "So far we have discussed how to query a k-D tree for a point. We can use k-D trees to conduct more complicated queries. For example, we can use a k-D tree to efficiently find all the points in a certain region such as a circle or rectangle and we call this a **range query**. We can also find a specified number of the nearest points of a given point. We will focus on a particular query called **orthogonal range query**, where the range is specified as a rectangle. There are other kinds of queries, including circular range query and nearest neighbor query. More details can be found in the textbook *GIS Algorithms* and the code are available in the [indexing repository](https://github.com/gisalgs/indexing) at the github site.\n",
    "\n",
    "There are two videos associated with this tutorial. Please watch them from the carmen module links.\n",
    "\n",
    "- **Video: k-D tree orthogonal range query explained**. This video explains the concept of range query and especially orthogonal range query.\n",
    "- **Video: k-D tree range query coding**. This video walks through the implementation of a brute-force (linear) approach to searching for points in a rectangle, and then compares it with the use of k-D trees.\n",
    "\n",
    "\n",
    "## Orthogonal range query: a brute force approach\n",
    "\n",
    "Given a **rectangle**, can we quickly find all the points that fall within the rectangle? A brute-force approach is to test every point. We can also call it exhaustive search since it exhausts all the possible cases. This is straightforward to implement, but it can be extremely slow, especially when we have a lot of points to test and we have to test many times -- think about the number of places in the world. \n",
    "\n",
    "To show how a brute force approach works, we will complete the code below. Here, we encode the rectangle as a list of lists of four values: `[[xmin, xmax], [ymin, ymax]]`. Please watch the video that explains this part with the complete code and more."
   ]
  },
  {
   "cell_type": "code",
   "execution_count": null,
   "metadata": {},
   "outputs": [],
   "source": [
    "# assume: geom and indexing are already installed (shell) or cloned (notebook)\n",
    "#         and the path is set (for shell only)"
   ]
  },
  {
   "cell_type": "markdown",
   "metadata": {},
   "source": [
    "## <font color=\"red\">Question 1</font>\n",
    "\n",
    "Please complete the TODO part below and run the code cell."
   ]
  },
  {
   "cell_type": "code",
   "execution_count": null,
   "metadata": {},
   "outputs": [],
   "source": [
    "from geom.point import *\n",
    "\n",
    "in_rect = lambda x, y, rect: not (rect[0][0]>x or rect[0][1]<x or rect[1][0]>y or rect[1][1]<y)\n",
    "\n",
    "def search_all(all_points, rect):\n",
    "    '''\n",
    "    Returns the points that fall in a rectangle\n",
    "    \n",
    "    all_points    a list of Point objects\n",
    "    rect          a rectangle encoded as  [[xmin, xmax], [ymin, ymax]]\n",
    "    '''\n",
    "    # TODO:\n",
    "    #    Replace the pass statement blow to complete the code for a brute-force search\n",
    "    #\n",
    "    pass\n",
    "\n",
    "\n",
    "# testing \n",
    "raw_coord = [ (2,2), (0,5), (8,0), (9,8), (7,14), (13,12), (14,13) ]\n",
    "my_points = [Point(d[0], d[1]) for d in raw_coord]\n",
    "rect = [ [10, 14.5], [10, 13.5] ]\n",
    "\n",
    "found = search_all(my_points, rect)\n",
    "found"
   ]
  },
  {
   "cell_type": "markdown",
   "metadata": {},
   "source": [
    "### Orthogonal range query: using k-D trees\n",
    "\n",
    "Given what we have discussed about a tree structure, we should expect a k-D tree can help with range query. We will use the following figure to explain the algorithm.\n",
    "\n",
    "<img src=\"figures/kdtree-range-query-2.png\" width=450/>\n",
    "\n",
    "Here we discuss a search algorithm that is detailed in a function called `range_query_orthogonal` as listed below. This function was saved in a file called **kdtree2a.py** and is available in the github site at [here](https://github.com/gisalgs/indexing/blob/master/kdtree2a.py). In this function, we use a list called `found` to hold points found by the search process. The list `found` must be declared outside and passed to the function.\n",
    "\n",
    "![](figures/kd-tree-orth-query-code.png)\n",
    "\n",
    "The function `range_query_orthogonal` can be broken down into 5 logical blocks and we explain each of them below.\n",
    "\n",
    "(1) We make sure that the node is not empty. We will get the situation of `t` is `None` when we travel down from a leaf node. When this happens, we know there is nothing there to check out and we will just return, meaning exist the function.\n",
    "\n",
    "(2) If we ever reach here, it means that `t` is a valid node. Here we get which dimension we should use given the depth. The value of depth is passed from the function call and we will increase the depth value if we go down the tree (see below).\n",
    "\n",
    "(3) If the point at node `t` is to the left or below the rectangle (depending on which dimension we are using, X or Y here), we will only need to check the right branch of the node. In order to do that, we use the same function one more time, but this time we set the node to be checked to be `t.right` and increase the depth by 1. Note that we are not going to call the function using the left branch, meaning we will exclude everything in that branch. After this is done, we will exist the function, meaning we will not run anything underneath this part.\n",
    "\n",
    "(4) This is the code that handles the situation when the point on the node is to the right or above the rectangle.\n",
    "\n",
    "(5) If we reach here, it means that the point on the node is sandwiched between the two bounds (either X or Y, depending on the depth of the node). There are a few things to take care of. First, we check if the point is in the rectangle, if it is then we append the point on the node (`t.point`) to the list called `found`, which will collect all points found. Second, we will have to use both the right and left branches of the node. \n",
    "\n",
    "Once we have a good understanding of the code, it is time to first test the algorithm using the k-D tree we drew manually from the previous modules. Then we will set up a few points and use the following code to test the orthogonal range query on a k-D tree.\n",
    "\n",
    "Again, the code of this algorithm is in the file called [kdtree2a.py](https://github.com/gisalgs/indexing/blob/master/kdtree2a.py) on github. We should download it and put it in the indexing folder, along with other files like `kdtree1.py` and `bst.py` as we have used before."
   ]
  },
  {
   "cell_type": "code",
   "execution_count": null,
   "metadata": {},
   "outputs": [],
   "source": [
    "from indexing.kdtree1 import *\n",
    "from indexing.kdtree2a import *\n",
    "from indexing.bst import *\n",
    "\n",
    "data1 = [ (2,2), (0,5), (8,0), (9,8), (7,14), (13,12), (14,13) ]\n",
    "points = [Point(d[0], d[1], 0) for d in data1]\n",
    "\n",
    "t1 = kdtree2(points)\n",
    "tree_print(t1)\n",
    "\n",
    "rect = [ [10, 14.5], [10, 13.5] ]\n",
    "found = []\n",
    "range_query_orthogonal(t1, rect, found)\n",
    "print()\n",
    "print('Found:', found)\n"
   ]
  },
  {
   "cell_type": "markdown",
   "metadata": {},
   "source": [
    "## Validating the code\n",
    "\n",
    "We can use the functions in matplotlib to test if the query function actually returns the right result. We will use the following couple of functions to draw points and lines.\n",
    "\n"
   ]
  },
  {
   "cell_type": "code",
   "execution_count": null,
   "metadata": {},
   "outputs": [],
   "source": [
    "%matplotlib inline\n",
    "import matplotlib.pyplot as plt\n",
    "        \n",
    "def draw_points(pts, color, marker, size, alpha=0.7):\n",
    "    axis = plt.scatter([p.x for p in pts], [p.y for p in pts],\n",
    "                       marker=marker, color=color, s=size, alpha=alpha)\n",
    "    return axis\n",
    "\n",
    "def draw_lines(linesxy):\n",
    "    frame = plt.gca()\n",
    "    l = plt.Line2D(linesxy[0], linesxy[1], color='red')\n",
    "    frame.add_line(l)"
   ]
  },
  {
   "cell_type": "markdown",
   "metadata": {},
   "source": [
    "Now we illustrate the results."
   ]
  },
  {
   "cell_type": "code",
   "execution_count": null,
   "metadata": {},
   "outputs": [],
   "source": [
    "data1 = [ (2,2), (0,5), (8,0), (9,8), (7,14), (13,12), (14,13) ]\n",
    "\n",
    "points = [Point(d[0], d[1]) for d in data1]\n",
    "t2 = kdtree2(points)\n",
    "\n",
    "rect = [ [10, 14.5], [10, 13.5] ]\n",
    "\n",
    "found = []\n",
    "range_query_orthogonal(t2, rect, found)\n",
    "\n",
    "linesXY = [ [rect[0][0], rect[0][1], rect[0][1], rect[0][0], rect[0][0]],\n",
    "            [rect[1][0], rect[1][0], rect[1][1], rect[1][1], rect[1][0]] ]\n",
    "\n",
    "p1 = draw_points(points, 'red', 'x', 50)\n",
    "p2 = draw_points(found, 'blue', '+', 50)\n",
    "l = draw_lines(linesXY)\n",
    "\n",
    "plt.xlim([-1, 15])\n",
    "plt.ylim([-1, 15])\n",
    "plt.legend([p1, p2], ['All', 'Found'],  loc=4)\n",
    "\n",
    "ax = plt.gca()\n",
    "ax.set_aspect(1)\n",
    "plt.show()"
   ]
  },
  {
   "cell_type": "markdown",
   "metadata": {},
   "source": [
    "## <font color=\"red\">Question 2</font>\n",
    "\n",
    "If we do an orthogonal range query on the tree illustrated below using the rectangle shown in dashed red lines, the result will be an empty list. What are the nodes in the tree that must be tested by the algorithm? When we say a note is tested by the algorithm, we mean the line with a comment of `test t in rect` in [kdtree2a.py](https://github.com/gisalgs/indexing/blob/master/kdtree2a.py) is called. Apparently not every point will come to this line because of the various `return` statements before the line. You can answer this question by either slightly modifying the query function to print out the points that come to there and run it. If you choose this approach, the rectangle can be encoded as follows:\n",
    "\n",
    "```python\n",
    "rect = [ [2, 7.5], [8.5, 11.5] ]\n",
    "```\n",
    "\n",
    "You can also answer this question using a visual examination of the following figure. \n",
    "\n",
    "<img width=\"450\" src=\"figures/kdtree-range-query-1.png\"/>\n",
    "\n",
    "Please add more code/markdown cells whenever needed."
   ]
  }
 ],
 "metadata": {
  "kernelspec": {
   "display_name": "Python 3",
   "language": "python",
   "name": "python3"
  },
  "language_info": {
   "codemirror_mode": {
    "name": "ipython",
    "version": 3
   },
   "file_extension": ".py",
   "mimetype": "text/x-python",
   "name": "python",
   "nbconvert_exporter": "python",
   "pygments_lexer": "ipython3",
   "version": "3.8.5"
  }
 },
 "nbformat": 4,
 "nbformat_minor": 1
}
