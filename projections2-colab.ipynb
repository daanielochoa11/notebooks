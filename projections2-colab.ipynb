{
 "cells": [
  {
   "cell_type": "markdown",
   "metadata": {},
   "source": [
    "<a href=\"https://colab.research.google.com/github/gisalgs/notebooks/blob/main/projections2-colab.ipynb\">\n",
    "  <img src=\"https://colab.research.google.com/assets/colab-badge.svg\" alt=\"Open In Colab\"/>\n",
    "</a>\n",
    "\n",
    "\n",
    "\n",
    "# Robinson Projection\n",
    "\n",
    ">\"I started with a kind of artistic approach. I visualized the best-looking shapes and sizes. I worked with the variables until it got to the point where, if I changed one of them, it didn't get any better. Then I figured out the mathematical formula to produce that effect. Most mapmakers start with the mathematics.\"\n",
    ">\n",
    ">Arthur H. Robinson, [The New York Times](http://www.nytimes.com/1988/10/25/science/the-impossible-quest-for-the-perfect-map.html?pagewanted=all&src=pm)\n",
    "\n",
    "\n",
    "The two projections we discussed so far seemed to be simple as their mathematical work is quite straightforward. However, not all projections are in this way. Here we discuss the [Robinson projection](https://en.wikipedia.org/wiki/Robinson_projection) that requires more computation to transform the points. Here are some characteristics of the Robinson projection:\n",
    "\n",
    "- The parallels are straight lines and are equally spaced between approximately 38° north and 38° south, but the spacing decreases toward the poles from these two latitudes. \n",
    "- The poles in the Robinson projection are straight lines, each being 0.5322 as long as the equator. \n",
    "- The central meridian of the projection is a straight line that is 0.5072 as long as the equator. \n",
    "- On each parallel, the meridians are equally spaced. \n",
    "- The origin of the coordinate system in the Robinson projection is at the intersection between the equator and the central meridian. \n",
    "\n",
    "Different from other projections, the Robinson projection relies on the following look-up table for transformation. \n",
    "\n",
    "| Latitude ($\\varphi$) | Length (A) | Distance to equator (B) |\n",
    "|:--------------------:|:----------:|:-----------------------:|\n",
    "|00 | 1.0000 | 0.0000|\n",
    "|05 | 0.9986 | 0.0620|\n",
    "|10 | 0.9954 | 0.1240|\n",
    "|15 | 0.9900 | 0.1860|\n",
    "|20 | 0.9822 | 0.2480|\n",
    "|25 | 0.9730 | 0.3100|\n",
    "|30 | 0.9600 | 0.3720|\n",
    "|35 | 0.9427 | 0.4340|\n",
    "|40 | 0.9216 | 0.4958|\n",
    "|45 | 0.8962 | 0.5571|\n",
    "|50 | 0.8679 | 0.6176|\n",
    "|55 | 0.8350 | 0.6769|\n",
    "|60 | 0.7986 | 0.7346|\n",
    "|65 | 0.7597 | 0.7903|\n",
    "|70 | 0.7186 | 0.8435|\n",
    "|75 | 0.6732 | 0.8936|\n",
    "|80 | 0.6213 | 0.9394|\n",
    "|85 | 0.5722 | 0.9761|\n",
    "|90 | 0.5322 | 1.0000|\n",
    "\n",
    "\n",
    "From the above look-up table we can also notice a few interesting facts:\n",
    "\n",
    "- The distance of of each parallel to equator increases by 0.0620 for every 5 degrees from the equator. This number starts to decrease at 40 degree latitude (which would otherwise be 0.4960 if the rate maintains the same but is actually 0.4958). This is because Robinson wanted the polar area to be squeezed a little more as a way to control of area distortion.\n",
    "- The distance from the pole to equator is 1.0000 as indicated in the table. But from the above we know Robinson wanted the central meridian to be 0.5072 of the length of equator. We will use this table to get the distance of each parallel to equator, but at the end of transformation, we will need to adjust the total length by linear scaling.\n",
    "- Only the central median is a straight line and all other meridians are curved. We will get the distance of each parallel to equator first and then adjust them so that we can control the length of the meridians (by controlling the length of the central meridian).\n",
    "\n",
    "For each of the 19 latitudes ranging from 0 to 90 with an interval of 5 degrees (see the table below), Robinson gave the length of each parallel and the map distance from the parallel to the equator. But for any other latitude, we will have to interpolate the length (A) and distance to equator (B). \n",
    "\n",
    "Even more interesting and perhaps mysterious, Robinson did not specify which interpolation method was used in his original work. He took an artistic approach to this (see the quote at the beginning of this lecture note). It was suggested by Richardson (1989) that Robinson used Aitken's method in his original work. Aitken's method is now considered to be obsolete and a commonly used method today is called [**Neville's algorithm**](https://en.wikipedia.org/wiki/Neville%27s_algorithm). We will not get to the details of the algorithm, which can be found in the textbook (GIS Algorithms, pp. 35-36). Instead, we will discuss how the code works. We have a main module from the github repo involved here: [transform1.py](https://github.com/gisalgs/geom/blob/master/transform1.py), which imports another module called [neville.py](https://github.com/gisalgs/geom/blob/master/neville.py). We will only need to import the first module (transform1, admittedly the module name can be much improved!) in our own code."
   ]
  },
  {
   "cell_type": "code",
   "execution_count": 1,
   "metadata": {},
   "outputs": [
    {
     "name": "stdout",
     "output_type": "stream",
     "text": [
      "Cloning into 'geom'...\n",
      "remote: Enumerating objects: 27, done.\u001b[K\n",
      "remote: Counting objects: 100% (27/27), done.\u001b[K\n",
      "remote: Compressing objects: 100% (18/18), done.\u001b[K\n",
      "remote: Total 314 (delta 15), reused 21 (delta 9), pack-reused 287\u001b[K\n",
      "Receiving objects: 100% (314/314), 58.47 KiB | 2.17 MiB/s, done.\n",
      "Resolving deltas: 100% (175/175), done.\n"
     ]
    }
   ],
   "source": [
    "# run the following if necessary\n",
    "!rm geom -rf\n",
    "!git clone https://github.com/gisalgs/geom.git "
   ]
  },
  {
   "cell_type": "code",
   "execution_count": 2,
   "metadata": {},
   "outputs": [],
   "source": [
    "from geom.transform1 import *"
   ]
  },
  {
   "cell_type": "markdown",
   "metadata": {},
   "source": [
    "The lookup table is include in this module:"
   ]
  },
  {
   "cell_type": "code",
   "execution_count": 3,
   "metadata": {},
   "outputs": [
    {
     "data": {
      "text/plain": [
       "([0, 5, 10, 15, 20, 25, 30, 35, 40, 45, 50, 55, 60, 65, 70, 75, 80, 85, 90],\n",
       " [1.0,\n",
       "  0.9986,\n",
       "  0.9954,\n",
       "  0.99,\n",
       "  0.9822,\n",
       "  0.973,\n",
       "  0.96,\n",
       "  0.9427,\n",
       "  0.9216,\n",
       "  0.8962,\n",
       "  0.8679,\n",
       "  0.835,\n",
       "  0.7986,\n",
       "  0.7597,\n",
       "  0.7186,\n",
       "  0.6732,\n",
       "  0.6213,\n",
       "  0.5722,\n",
       "  0.5322],\n",
       " [0.0,\n",
       "  0.062,\n",
       "  0.124,\n",
       "  0.186,\n",
       "  0.248,\n",
       "  0.31,\n",
       "  0.372,\n",
       "  0.434,\n",
       "  0.4958,\n",
       "  0.5571,\n",
       "  0.6176,\n",
       "  0.6769,\n",
       "  0.7346,\n",
       "  0.7903,\n",
       "  0.8435,\n",
       "  0.8936,\n",
       "  0.9394,\n",
       "  0.9761,\n",
       "  1.0])"
      ]
     },
     "execution_count": 3,
     "metadata": {},
     "output_type": "execute_result"
    }
   ],
   "source": [
    "latitudes, A, B"
   ]
  },
  {
   "cell_type": "markdown",
   "metadata": {},
   "source": [
    "Technically, an interpolation task will involve a  set of known values and a value used to guess the unknown value. For example, we can provide the height of people at ages of 10, 20, 30, and 40, and we want to estimate (interpolate) the height of someone at the age of 27. The same goes with the look up table above: what is the length of the parallel at latitude 41? Or what is the distance to equator at latitude 17? We do not know these from the look up table and will have to make a guess based on the known values. \n",
    "\n",
    "In order to do the interpolation, we first need to decide what known values to be used. We do not want (or need) to use all the known values in the lookup table. We will allow the user to specify this. For example, for each value to be interpolated (say 21), the user wants known values smaller than it and two values greater than it. In other words, we need to pull values (A or B) for latitudes 15, 20, 25, and 30 from the lookup table. There are also special cases to consider. For example, when the interpolation value is 3, we do not have two known values smaller than this, but only one (latitude 0). We need to take care of all the special cases to make sure known values are correctly pulled out from the lookup table. This is done in the two functions called `find_le` and `get_interpolation_range` in the `transform1` module.\n",
    "\n",
    "\n",
    "The `find_le` function returns the index of the rightmost value in a list that is smaller than or equal to a given value. This function is adopted from [this Python documentation](https://docs.python.org/3/library/bisect.html). We will use this to search for the index of the rightmost value in the latitudes list, which is already sorted and therefore can utilize the binary search method in the bisect module. Here is some tests of this function:"
   ]
  },
  {
   "cell_type": "code",
   "execution_count": 4,
   "metadata": {},
   "outputs": [
    {
     "data": {
      "text/plain": [
       "2"
      ]
     },
     "execution_count": 4,
     "metadata": {},
     "output_type": "execute_result"
    }
   ],
   "source": [
    "find_le(latitudes, 12.5)"
   ]
  },
  {
   "cell_type": "code",
   "execution_count": 5,
   "metadata": {},
   "outputs": [
    {
     "data": {
      "text/plain": [
       "0"
      ]
     },
     "execution_count": 5,
     "metadata": {},
     "output_type": "execute_result"
    }
   ],
   "source": [
    "find_le(latitudes, 0.1)"
   ]
  },
  {
   "cell_type": "markdown",
   "metadata": {},
   "source": [
    "Once we have got which latitude in the look-up table is the nearest to our input value, we will need to know what are exactly the latitudes, or their indexes rather, that will be used for interpolation. The `get_interpolation_range` function does just that: it returns the start and end indexes given the rightmost smallest value's index and how many do we want on both sizes of the interpolation value. In order to avoid out of range, we also need the total number of items in the list. This function does not need the actual list. The following example shows that indexes used to interpolate a value at 12.5 with two known values smaller and two larger will start at index 1 and end at 5 (included):"
   ]
  },
  {
   "cell_type": "code",
   "execution_count": 6,
   "metadata": {},
   "outputs": [
    {
     "name": "stdout",
     "output_type": "stream",
     "text": [
      "1 5\n"
     ]
    }
   ],
   "source": [
    "i = find_le(latitudes, 12.5)\n",
    "ileft, iright = get_interpolation_range(2, len(latitudes), i)\n",
    "print(ileft, iright)"
   ]
  },
  {
   "cell_type": "markdown",
   "metadata": {},
   "source": [
    "The actual values are listed below, where 12.5 is right in the middle:"
   ]
  },
  {
   "cell_type": "code",
   "execution_count": 7,
   "metadata": {},
   "outputs": [
    {
     "data": {
      "text/plain": [
       "[5, 10, 15, 20]"
      ]
     },
     "execution_count": 7,
     "metadata": {},
     "output_type": "execute_result"
    }
   ],
   "source": [
    "latitudes[ileft:iright]"
   ]
  },
  {
   "cell_type": "markdown",
   "metadata": {},
   "source": [
    "With this, we can see how the Neville's algorithm can be used for interpolation the length of the parallel (column A in the lookup table) at latitude 12.5:"
   ]
  },
  {
   "cell_type": "code",
   "execution_count": 8,
   "metadata": {},
   "outputs": [
    {
     "data": {
      "text/plain": [
       "0.9929874999999999"
      ]
     },
     "execution_count": 8,
     "metadata": {},
     "output_type": "execute_result"
    }
   ],
   "source": [
    "neville(latitudes[ileft:iright], A[ileft:iright], 12.5)"
   ]
  },
  {
   "cell_type": "markdown",
   "metadata": {},
   "source": [
    "This should be a reasonable outcome as the value at latitude 10 is 0.9954, and at latitude 15 is 0.9900. So we got a value that is in between.\n",
    "\n",
    "Note it will be inappropriate to use the values at latitudes 5, 10, 15, and 20 to interpolate values outside this range. The following is an example to interpolate the length at latitude 80.5 using these four latitudes:"
   ]
  },
  {
   "cell_type": "code",
   "execution_count": 9,
   "metadata": {},
   "outputs": [
    {
     "data": {
      "text/plain": [
       "0.6231082999999263"
      ]
     },
     "execution_count": 9,
     "metadata": {},
     "output_type": "execute_result"
    }
   ],
   "source": [
    "neville(latitudes[ileft:iright], A[ileft:iright], 80.5)"
   ]
  },
  {
   "cell_type": "markdown",
   "metadata": {},
   "source": [
    "Clearly this is not correct because value at latitude is 0.6213, and the value at 80.5 should be smaller than that, but we got a value that is even greater than that at 80. We should use the proper range:"
   ]
  },
  {
   "cell_type": "code",
   "execution_count": 10,
   "metadata": {},
   "outputs": [
    {
     "data": {
      "text/plain": [
       "0.61616005"
      ]
     },
     "execution_count": 10,
     "metadata": {},
     "output_type": "execute_result"
    }
   ],
   "source": [
    "i = find_le(latitudes, 80.5)\n",
    "ileft, iright = get_interpolation_range(2, len(latitudes), i)\n",
    "neville(latitudes[ileft:iright], A[ileft:iright], 80.5)"
   ]
  },
  {
   "cell_type": "code",
   "execution_count": 11,
   "metadata": {},
   "outputs": [
    {
     "data": {
      "text/plain": [
       "0.41073467744455683"
      ]
     },
     "execution_count": 11,
     "metadata": {},
     "output_type": "execute_result"
    }
   ],
   "source": [
    "# TODO\n",
    "#   What will be the estimate of the distance to equitor \n",
    "#   from latitude 33.123 using 3 known values from each side?\n",
    "\n",
    "lat = 33.123\n",
    "i = find_le(latitudes, lat)\n",
    "ileft, iright = get_interpolation_range(3, len(latitudes), i)\n",
    "neville(latitudes[ileft:iright], B[ileft:iright], lat)"
   ]
  },
  {
   "cell_type": "markdown",
   "metadata": {},
   "source": [
    "And the actual code for Robinson projection transformation is in the `transform1` function. Applying the code is straightforward, as we did in the other sinusoidal transformation function. Below is a quick test of the function."
   ]
  },
  {
   "cell_type": "code",
   "execution_count": 12,
   "metadata": {},
   "outputs": [
    {
     "data": {
      "text/plain": [
       "(0.2661, 0.2536)"
      ]
     },
     "execution_count": 12,
     "metadata": {},
     "output_type": "execute_result"
    }
   ],
   "source": [
    "transform1(180, 90)"
   ]
  },
  {
   "cell_type": "markdown",
   "metadata": {},
   "source": [
    " Now we should be ready to draw the map."
   ]
  },
  {
   "cell_type": "code",
   "execution_count": 13,
   "metadata": {},
   "outputs": [],
   "source": [
    "%matplotlib inline\n",
    "import matplotlib.pyplot as plt"
   ]
  },
  {
   "cell_type": "code",
   "execution_count": 14,
   "metadata": {
    "scrolled": false
   },
   "outputs": [
    {
     "data": {
      "image/png": "[encoded data removed]",
      "text/plain": [
       "<Figure size 432x288 with 1 Axes>"
      ]
     },
     "metadata": {
      "needs_background": "light"
     },
     "output_type": "display_data"
    }
   ],
   "source": [
    "from geom.worldmap import *\n",
    "from geom.plot_worldmap import *\n",
    "\n",
    "url = 'https://raw.githubusercontent.com/gisalgs/data/master/ne_110m_coastline.geojson'\n",
    "raw_points, numgraticule, numline = prep_projection_data(url, _use_lib='URL')\n",
    "\n",
    "points=[]\n",
    "for p in raw_points:\n",
    "    p1 = transform1(p[1], p[2])\n",
    "    points.append([p[0], p1[0], p1[1]])\n",
    "\n",
    "\n",
    "# TODO\n",
    "#   Draw a world map on Robinson Projection\n",
    "    \n",
    "_, ax = plt.subplots(1, 1)\n",
    "plot_world(ax, points, numgraticule, numline)\n",
    "plt.show()"
   ]
  },
  {
   "cell_type": "markdown",
   "metadata": {},
   "source": [
    "The above code should render a world map using the Robinson Projection."
   ]
  }
 ],
 "metadata": {
  "kernelspec": {
   "display_name": "Python 3",
   "language": "python",
   "name": "python3"
  },
  "language_info": {
   "codemirror_mode": {
    "name": "ipython",
    "version": 3
   },
   "file_extension": ".py",
   "mimetype": "text/x-python",
   "name": "python",
   "nbconvert_exporter": "python",
   "pygments_lexer": "ipython3",
   "version": "3.8.5"
  }
 },
 "nbformat": 4,
 "nbformat_minor": 1
}
